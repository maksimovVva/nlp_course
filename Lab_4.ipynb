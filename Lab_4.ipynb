{
 "cells": [
  {
   "cell_type": "markdown",
   "metadata": {},
   "source": [
    "# Laboratory work №4"
   ]
  },
  {
   "cell_type": "markdown",
   "metadata": {},
   "source": [
    "### Maslennikova Elizaveta, Shchegletova Tatyana 18IAD"
   ]
  },
  {
   "cell_type": "markdown",
   "metadata": {},
   "source": [
    "#### loss = :top1, opt = :sgdm, agg = :sum, constr = :nneg"
   ]
  },
  {
   "cell_type": "code",
   "execution_count": 1,
   "metadata": {},
   "outputs": [
    {
     "name": "stdout",
     "output_type": "stream",
     "text": [
      "[nltk_data] Downloading package stopwords to\n",
      "[nltk_data]     /Users/elizavetamaslennikova/nltk_data...\n",
      "[nltk_data]   Package stopwords is already up-to-date!\n"
     ]
    }
   ],
   "source": [
    "import pandas as pd\n",
    "import numpy as np\n",
    "from pymystem3 import Mystem\n",
    "from sklearn.feature_extraction.text import CountVectorizer\n",
    "import re \n",
    "import nltk\n",
    "import sys\n",
    "nltk.download('stopwords')\n",
    "from nltk.corpus import stopwords \n",
    "import matplotlib.pyplot as plt\n",
    "%matplotlib inline"
   ]
  },
  {
   "cell_type": "code",
   "execution_count": 2,
   "metadata": {
    "collapsed": true
   },
   "outputs": [],
   "source": [
    "import warnings\n",
    "warnings.filterwarnings(\"ignore\")"
   ]
  },
  {
   "cell_type": "markdown",
   "metadata": {},
   "source": [
    "### Reading data "
   ]
  },
  {
   "cell_type": "code",
   "execution_count": 3,
   "metadata": {},
   "outputs": [
    {
     "data": {
      "text/html": [
       "<div>\n",
       "<style>\n",
       "    .dataframe thead tr:only-child th {\n",
       "        text-align: right;\n",
       "    }\n",
       "\n",
       "    .dataframe thead th {\n",
       "        text-align: left;\n",
       "    }\n",
       "\n",
       "    .dataframe tbody tr th {\n",
       "        vertical-align: top;\n",
       "    }\n",
       "</style>\n",
       "<table border=\"1\" class=\"dataframe\">\n",
       "  <thead>\n",
       "    <tr style=\"text-align: right;\">\n",
       "      <th></th>\n",
       "      <th>text</th>\n",
       "      <th>title</th>\n",
       "    </tr>\n",
       "  </thead>\n",
       "  <tbody>\n",
       "    <tr>\n",
       "      <th>0</th>\n",
       "      <td>Телеведущая Ксения Собчак считает, что художе...</td>\n",
       "      <td>Серебренников создал не просто театр, а \"центр...</td>\n",
       "    </tr>\n",
       "    <tr>\n",
       "      <th>1</th>\n",
       "      <td>Интернет-сервис Amazo удалил с сайта объявлени...</td>\n",
       "      <td>Американка сняла на видео \"профессиональный\" ф...</td>\n",
       "    </tr>\n",
       "    <tr>\n",
       "      <th>2</th>\n",
       "      <td>Посольство России в Вашингтоне готово оказать...</td>\n",
       "      <td>Посольство России призвало США прекратить похи...</td>\n",
       "    </tr>\n",
       "    <tr>\n",
       "      <th>3</th>\n",
       "      <td>В четверг стало известно, что российский боксе...</td>\n",
       "      <td>Тренер Гассиева: повторный бой с Лебедевым ста...</td>\n",
       "    </tr>\n",
       "    <tr>\n",
       "      <th>4</th>\n",
       "      <td>Апелляционный суд Киева отпустил из-под арест...</td>\n",
       "      <td>Суд отпустил из-под ареста подозреваемых в под...</td>\n",
       "    </tr>\n",
       "  </tbody>\n",
       "</table>\n",
       "</div>"
      ],
      "text/plain": [
       "                                                text  \\\n",
       "0   Телеведущая Ксения Собчак считает, что художе...   \n",
       "1  Интернет-сервис Amazo удалил с сайта объявлени...   \n",
       "2   Посольство России в Вашингтоне готово оказать...   \n",
       "3  В четверг стало известно, что российский боксе...   \n",
       "4   Апелляционный суд Киева отпустил из-под арест...   \n",
       "\n",
       "                                               title  \n",
       "0  Серебренников создал не просто театр, а \"центр...  \n",
       "1  Американка сняла на видео \"профессиональный\" ф...  \n",
       "2  Посольство России призвало США прекратить похи...  \n",
       "3  Тренер Гассиева: повторный бой с Лебедевым ста...  \n",
       "4  Суд отпустил из-под ареста подозреваемых в под...  "
      ]
     },
     "execution_count": 3,
     "metadata": {},
     "output_type": "execute_result"
    }
   ],
   "source": [
    "data = pd.read_json('final.json')\n",
    "data.index = range(0, data.shape[0])\n",
    "data.head()"
   ]
  },
  {
   "cell_type": "code",
   "execution_count": 4,
   "metadata": {},
   "outputs": [
    {
     "data": {
      "text/plain": [
       "(103132, 2)"
      ]
     },
     "execution_count": 4,
     "metadata": {},
     "output_type": "execute_result"
    }
   ],
   "source": [
    "data.shape"
   ]
  },
  {
   "cell_type": "code",
   "execution_count": 5,
   "metadata": {},
   "outputs": [
    {
     "data": {
      "text/html": [
       "<div>\n",
       "<style>\n",
       "    .dataframe thead tr:only-child th {\n",
       "        text-align: right;\n",
       "    }\n",
       "\n",
       "    .dataframe thead th {\n",
       "        text-align: left;\n",
       "    }\n",
       "\n",
       "    .dataframe tbody tr th {\n",
       "        vertical-align: top;\n",
       "    }\n",
       "</style>\n",
       "<table border=\"1\" class=\"dataframe\">\n",
       "  <thead>\n",
       "    <tr style=\"text-align: right;\">\n",
       "      <th></th>\n",
       "      <th>text</th>\n",
       "      <th>title</th>\n",
       "    </tr>\n",
       "  </thead>\n",
       "  <tbody>\n",
       "    <tr>\n",
       "      <th>count</th>\n",
       "      <td>103132</td>\n",
       "      <td>103132</td>\n",
       "    </tr>\n",
       "    <tr>\n",
       "      <th>unique</th>\n",
       "      <td>103132</td>\n",
       "      <td>103132</td>\n",
       "    </tr>\n",
       "    <tr>\n",
       "      <th>top</th>\n",
       "      <td>\"РБ Лейпциг\" в гостях обыграл \"Боруссию\" из Ме...</td>\n",
       "      <td>\"Спартак\" объяснил причины отставки Карреры</td>\n",
       "    </tr>\n",
       "    <tr>\n",
       "      <th>freq</th>\n",
       "      <td>1</td>\n",
       "      <td>1</td>\n",
       "    </tr>\n",
       "  </tbody>\n",
       "</table>\n",
       "</div>"
      ],
      "text/plain": [
       "                                                     text  \\\n",
       "count                                              103132   \n",
       "unique                                             103132   \n",
       "top     \"РБ Лейпциг\" в гостях обыграл \"Боруссию\" из Ме...   \n",
       "freq                                                    1   \n",
       "\n",
       "                                              title  \n",
       "count                                        103132  \n",
       "unique                                       103132  \n",
       "top     \"Спартак\" объяснил причины отставки Карреры  \n",
       "freq                                              1  "
      ]
     },
     "execution_count": 5,
     "metadata": {},
     "output_type": "execute_result"
    }
   ],
   "source": [
    "data.describe()"
   ]
  },
  {
   "cell_type": "markdown",
   "metadata": {},
   "source": [
    "As we can see, data does not have _gaps_ and _duplicates_!"
   ]
  },
  {
   "cell_type": "markdown",
   "metadata": {},
   "source": [
    "#### Process source texts: cleaning, create vocabulary and translate texts to index sequences"
   ]
  },
  {
   "cell_type": "code",
   "execution_count": 6,
   "metadata": {},
   "outputs": [
    {
     "data": {
      "text/plain": [
       "(206264,)"
      ]
     },
     "execution_count": 6,
     "metadata": {},
     "output_type": "execute_result"
    }
   ],
   "source": [
    "title_texts = pd.concat([data['title'], data[\"text\"]], ignore_index=True)\n",
    "title_texts.shape"
   ]
  },
  {
   "cell_type": "code",
   "execution_count": 7,
   "metadata": {
    "scrolled": true
   },
   "outputs": [
    {
     "name": "stdout",
     "output_type": "stream",
     "text": [
      "[nltk_data] Downloading package stopwords to\n",
      "[nltk_data]     /Users/elizavetamaslennikova/nltk_data...\n",
      "[nltk_data]   Package stopwords is already up-to-date!\n"
     ]
    }
   ],
   "source": [
    "nltk.download('stopwords')\n",
    "\n",
    "def tokenize(string):\n",
    "    string = re.sub(r'\\W', ' ',  string)\n",
    "    string = re.sub(r'\\s+', ' ', string, flags=re.I)\n",
    "    tokens = re.findall(r'\\b[А-Яа-я]{1,}\\b', string)\n",
    "    words = [t for t in tokens if len(t) > 2]\n",
    "    return words"
   ]
  },
  {
   "cell_type": "code",
   "execution_count": 8,
   "metadata": {
    "collapsed": true
   },
   "outputs": [],
   "source": [
    "vectorizer = CountVectorizer(\n",
    "    tokenizer = tokenize,\n",
    "    min_df = 10, \n",
    "    max_df = 0.5,\n",
    "    stop_words=stopwords.words('russian'))\n",
    "\n",
    "vectorizer.fit(title_texts)\n",
    "pass"
   ]
  },
  {
   "cell_type": "code",
   "execution_count": 9,
   "metadata": {
    "collapsed": true
   },
   "outputs": [],
   "source": [
    "vocabulary = vectorizer.vocabulary_"
   ]
  },
  {
   "cell_type": "code",
   "execution_count": 10,
   "metadata": {},
   "outputs": [
    {
     "data": {
      "text/plain": [
       "[('серебренников', 22251),\n",
       " ('создал', 23173),\n",
       " ('просто', 19753),\n",
       " ('театр', 24677),\n",
       " ('центр', 27397),\n",
       " ('силы', 22387),\n",
       " ('считает', 24439),\n",
       " ('собчак', 23003),\n",
       " ('американка', 524),\n",
       " ('сняла', 22918)]"
      ]
     },
     "execution_count": 10,
     "metadata": {},
     "output_type": "execute_result"
    }
   ],
   "source": [
    "list(vocabulary.items())[:10]"
   ]
  },
  {
   "cell_type": "code",
   "execution_count": 11,
   "metadata": {},
   "outputs": [
    {
     "data": {
      "text/plain": [
       "[(22251, 'серебренников'),\n",
       " (23173, 'создал'),\n",
       " (19753, 'просто'),\n",
       " (24677, 'театр'),\n",
       " (27397, 'центр'),\n",
       " (22387, 'силы'),\n",
       " (24439, 'считает'),\n",
       " (23003, 'собчак'),\n",
       " (524, 'американка'),\n",
       " (22918, 'сняла')]"
      ]
     },
     "execution_count": 11,
     "metadata": {},
     "output_type": "execute_result"
    }
   ],
   "source": [
    "ind_to_word = {}\n",
    "for w, i in vocabulary.items():\n",
    "    ind_to_word[i] = w\n",
    "list(ind_to_word.items())[:10]"
   ]
  },
  {
   "cell_type": "code",
   "execution_count": 12,
   "metadata": {},
   "outputs": [
    {
     "data": {
      "text/plain": [
       "28794"
      ]
     },
     "execution_count": 12,
     "metadata": {},
     "output_type": "execute_result"
    }
   ],
   "source": [
    "n_tokens = len(vocabulary.items())\n",
    "n_tokens"
   ]
  },
  {
   "cell_type": "code",
   "execution_count": 13,
   "metadata": {
    "collapsed": true
   },
   "outputs": [],
   "source": [
    "title_tok = vectorizer.transform(data['title'])\n",
    "text_tok = vectorizer.transform(data['text'])"
   ]
  },
  {
   "cell_type": "code",
   "execution_count": 14,
   "metadata": {
    "collapsed": true
   },
   "outputs": [],
   "source": [
    "processed_data = []\n",
    "\n",
    "for i in range(0, data.shape[0]):\n",
    "    title = title_tok.getrow(i)\n",
    "    title_ind = np.array([], dtype=np.uint16)\n",
    "    for ind, n in zip(title.indices, title.data):\n",
    "        title_ind = np.append(title_ind, [ind for _ in range(0, n)])\n",
    "        \n",
    "    text = text_tok.getrow(i)\n",
    "    text_ind = np.array([], dtype=np.uint16)\n",
    "    for ind, n in zip(text.indices, text.data):\n",
    "        text_ind = np.append(text_ind, [ind for _ in range(0, n)])\n",
    "    processed_data.append((title_ind, text_ind))\n",
    "np.random.shuffle(processed_data)"
   ]
  },
  {
   "cell_type": "markdown",
   "metadata": {},
   "source": [
    "#### Split data to train (100 000 items) and test (1 000) samples "
   ]
  },
  {
   "cell_type": "code",
   "execution_count": 15,
   "metadata": {},
   "outputs": [
    {
     "name": "stdout",
     "output_type": "stream",
     "text": [
      "100000 1000\n"
     ]
    }
   ],
   "source": [
    "train_data = processed_data[:100000]\n",
    "test_data = processed_data[100000:101000]\n",
    "print(len(train_data), len(test_data))"
   ]
  },
  {
   "cell_type": "markdown",
   "metadata": {},
   "source": [
    "### Create embedding"
   ]
  },
  {
   "cell_type": "markdown",
   "metadata": {},
   "source": [
    "W - matrix (_embedding length_ X _number of tokens_), where each column is the representation of certain token in current embedding.\n",
    "\n",
    "w_T - transpose matrix of W.\n",
    "\n",
    "Initialize this matrix with random number from Normal distribution.\n",
    "\n",
    "Also create dictionary with _\"momentum\"_ for _SGDM_, initialize them with 0."
   ]
  },
  {
   "cell_type": "code",
   "execution_count": 16,
   "metadata": {
    "collapsed": true
   },
   "outputs": [],
   "source": [
    "embending_size = 512"
   ]
  },
  {
   "cell_type": "code",
   "execution_count": 17,
   "metadata": {},
   "outputs": [
    {
     "data": {
      "image/png": "[encoded data removed]",
      "text/plain": [
       "<Figure size 432x288 with 1 Axes>"
      ]
     },
     "metadata": {},
     "output_type": "display_data"
    }
   ],
   "source": [
    "mu, sigma = 0.0001, 0.00001\n",
    "d = np.random.normal(mu, sigma, embending_size*n_tokens)\n",
    "count, bins, ignored = plt.hist(d, 30, normed=True)\n",
    "plt.plot(bins, 1/(sigma * np.sqrt(2 * np.pi)) * np.exp( - (bins - mu)**2 / (2 * sigma**2) ), linewidth=2, color='r')\n",
    "plt.show()"
   ]
  },
  {
   "cell_type": "markdown",
   "metadata": {},
   "source": [
    "#### Save initial content of w_T to have possibilities to compare different model, starting training from the same"
   ]
  },
  {
   "cell_type": "code",
   "execution_count": 18,
   "metadata": {
    "collapsed": true
   },
   "outputs": [],
   "source": [
    "def reset_parameters(d):\n",
    "    w_T = np.array(d)\n",
    "    w_T = np.reshape(w_T, newshape=(n_tokens, embending_size))\n",
    "    vt = np.zeros((n_tokens, embending_size), dtype=np.float16)\n",
    "    return w_T, vt"
   ]
  },
  {
   "cell_type": "code",
   "execution_count": 19,
   "metadata": {},
   "outputs": [
    {
     "data": {
      "text/plain": [
       "array([[9.05917611e-05, 8.67349056e-05, 1.04476539e-04, ...,\n",
       "        1.14883331e-04, 1.02696145e-04, 1.03682746e-04],\n",
       "       [1.05765853e-04, 9.80767469e-05, 1.16110870e-04, ...,\n",
       "        1.13469893e-04, 9.57290019e-05, 1.06738082e-04],\n",
       "       [1.03072533e-04, 9.58833665e-05, 1.24844576e-04, ...,\n",
       "        1.07947299e-04, 9.46681303e-05, 1.08937727e-04],\n",
       "       ...,\n",
       "       [8.16514846e-05, 9.34682344e-05, 7.96504823e-05, ...,\n",
       "        1.12455639e-04, 1.04720596e-04, 8.22992181e-05],\n",
       "       [1.08785344e-04, 9.90305408e-05, 9.42742211e-05, ...,\n",
       "        1.19177877e-04, 1.01435654e-04, 1.10425052e-04],\n",
       "       [9.56476373e-05, 8.42283548e-05, 1.23528504e-04, ...,\n",
       "        9.36585519e-05, 8.42190578e-05, 1.01186373e-04]])"
      ]
     },
     "execution_count": 19,
     "metadata": {},
     "output_type": "execute_result"
    }
   ],
   "source": [
    "w_T, vt = reset_parameters(d)\n",
    "w_T"
   ]
  },
  {
   "cell_type": "code",
   "execution_count": 20,
   "metadata": {},
   "outputs": [
    {
     "data": {
      "text/plain": [
       "array([[0., 0., 0., ..., 0., 0., 0.],\n",
       "       [0., 0., 0., ..., 0., 0., 0.],\n",
       "       [0., 0., 0., ..., 0., 0., 0.],\n",
       "       ...,\n",
       "       [0., 0., 0., ..., 0., 0., 0.],\n",
       "       [0., 0., 0., ..., 0., 0., 0.],\n",
       "       [0., 0., 0., ..., 0., 0., 0.]], dtype=float16)"
      ]
     },
     "execution_count": 20,
     "metadata": {},
     "output_type": "execute_result"
    }
   ],
   "source": [
    "vt"
   ]
  },
  {
   "cell_type": "markdown",
   "metadata": {
    "collapsed": true
   },
   "source": [
    "## Start training "
   ]
  },
  {
   "cell_type": "code",
   "execution_count": 21,
   "metadata": {
    "collapsed": true
   },
   "outputs": [],
   "source": [
    "# aggrigation function \n",
    "def aggr(w_T, text):\n",
    "    return np.sum(w_T[text], axis=0)"
   ]
  },
  {
   "cell_type": "code",
   "execution_count": 22,
   "metadata": {
    "collapsed": true
   },
   "outputs": [],
   "source": [
    "# calculating Sigmoid function\n",
    "def sigmoid(x):\n",
    "    return 1/(1+np.exp(-x))"
   ]
  },
  {
   "cell_type": "code",
   "execution_count": 23,
   "metadata": {
    "collapsed": true
   },
   "outputs": [],
   "source": [
    "# calculate top1 loss function \n",
    "def loss(u, v1, v2):\n",
    "    arg = np.dot(u, v1) - np.dot(u, v2)\n",
    "    return sigmoid(arg)"
   ]
  },
  {
   "cell_type": "code",
   "execution_count": 24,
   "metadata": {
    "collapsed": true
   },
   "outputs": [],
   "source": [
    "# function for updating weights in embedding\n",
    "def update(w_T, vt, grad, text, gamma=0.9, learning_rate=0.01):\n",
    "    vt[text] = gamma*vt[text] + learning_rate*grad\n",
    "    w_T[text] += vt[text]\n",
    "    return w_T, vt"
   ]
  },
  {
   "cell_type": "code",
   "execution_count": 25,
   "metadata": {
    "collapsed": true
   },
   "outputs": [],
   "source": [
    "# calculate cosine simylarity\n",
    "def cos_simularity(v1, v2):\n",
    "    return np.dot(v1, v2)/(np.linalg.norm(v1)*np.linalg.norm(v2))"
   ]
  },
  {
   "cell_type": "code",
   "execution_count": 26,
   "metadata": {
    "collapsed": true
   },
   "outputs": [],
   "source": [
    "# check constraints on w_T and update it if they are not executed\n",
    "def check_constraints(w_T):\n",
    "    w_T = np.where(w_T < 0, 0.00000001, w_T)\n",
    "    return w_T"
   ]
  },
  {
   "cell_type": "code",
   "execution_count": 27,
   "metadata": {
    "collapsed": true
   },
   "outputs": [],
   "source": [
    "# train 1 epoch\n",
    "def train(train_data, w_T, vt, gamma, learning_rate, constraints):\n",
    "    data_number = len(train_data)\n",
    "    np.random.shuffle(train_data)\n",
    "    \n",
    "    for i in range(0, data_number):\n",
    "        # choose text for training\n",
    "        true_ind = i\n",
    "        false_ind = np.random.randint(data_number)\n",
    "        while false_ind == true_ind:\n",
    "            false_ind = np.random.randint(data_number)\n",
    "            \n",
    "        # aggrigation    \n",
    "        true_text = aggr(w_T, train_data[true_ind][1])\n",
    "        true_title = aggr(w_T, train_data[true_ind][0])\n",
    "        false_text = aggr(w_T, train_data[false_ind][1])\n",
    "        \n",
    "        # evaluate top1 loss function\n",
    "        loss_val = loss(true_title, true_text, false_text)\n",
    "        \n",
    "        # upgrade weights\n",
    "        k = loss_val*(1-loss_val)\n",
    "        gradients = (k*(true_text-false_text), k*true_title, k*np.negative(true_title))\n",
    "        texts = (train_data[true_ind][0], train_data[true_ind][1], train_data[false_ind][1])\n",
    "        for grad, text in zip(gradients, texts):\n",
    "            w_T, vt = update(w_T, vt, grad, text, gamma, learning_rate)\n",
    "            \n",
    "        # check constraints\n",
    "        if constraints and i % 1000 == 0:\n",
    "            w_T = check_constraints(w_T)\n",
    "        \n",
    "        if i%20 == 19:\n",
    "            sys.stdout.write(\"\\rTraining: %f%%\" % (100*(i+1)/data_number))\n",
    "            sys.stdout.flush()\n",
    "\n",
    "    return w_T, vt"
   ]
  },
  {
   "cell_type": "code",
   "execution_count": 28,
   "metadata": {
    "collapsed": true
   },
   "outputs": [],
   "source": [
    "# calculate frecuency\n",
    "def evaluate(test_data, w_T, k=10):\n",
    "    count = 0\n",
    "    data_number = len(test_data)\n",
    "    texts_aggr = []\n",
    "    for i in range(0, data_number):\n",
    "        texts_aggr.append(aggr(w_T, test_data[i][1]))\n",
    "    for ind_1 in range(0, data_number):\n",
    "        dist_arr = np.array([], dtype=np.float16)\n",
    "        title_aggr = aggr(w_T, test_data[ind_1][0])\n",
    "        for ind_2 in range(0, data_number):\n",
    "            dist_arr = np.append(dist_arr, 1 - cos_simularity(title_aggr, texts_aggr[ind_2]))\n",
    "\n",
    "        sort_dist_arr = np.sort(dist_arr)\n",
    "        treshold = sort_dist_arr[k-1]\n",
    "        if dist_arr[ind_1] <= treshold:\n",
    "            count += 1\n",
    "\n",
    "        if ind_1 % 20 == 19:\n",
    "            sys.stdout.write(\"\\rEvaluate frecuency: %f%%\" % (100*(ind_1+1)/data_number))\n",
    "            sys.stdout.flush()\n",
    "    return count / data_number"
   ]
  },
  {
   "cell_type": "code",
   "execution_count": 29,
   "metadata": {
    "collapsed": true,
    "scrolled": false
   },
   "outputs": [],
   "source": [
    "# train model on current number of epoch and calculate frecuency after each of them\n",
    "def train_model(train_data, test_data, w_T, vt, n_epoch=1, gamma=0.9, learning_rate=0.01, constraints=True):\n",
    "    frec_arr = []\n",
    "    for ep in range(0, n_epoch):\n",
    "        w_T, vt = train(train_data, w_T, vt, gamma, learning_rate, constraints)\n",
    "        frecuency = evaluate(test_data, w_T)\n",
    "        print(\"\\rEpoch #\" + str(ep) + \": frecuency is %f\" %round(frecuency, 2))\n",
    "        frec_arr.append(frecuency)\n",
    "    return frec_arr"
   ]
  },
  {
   "cell_type": "markdown",
   "metadata": {},
   "source": [
    "## Explore model with different set of parametrs (gamma and learning rate) "
   ]
  },
  {
   "cell_type": "code",
   "execution_count": 34,
   "metadata": {
    "scrolled": true
   },
   "outputs": [
    {
     "name": "stdout",
     "output_type": "stream",
     "text": [
      "Epoch #0: frecuency is 0.410000\n",
      "Epoch #1: frecuency is 0.540000\n",
      "Epoch #2: frecuency is 0.590000\n",
      "Epoch #3: frecuency is 0.640000\n",
      "Epoch #4: frecuency is 0.660000\n",
      "Epoch #5: frecuency is 0.680000\n",
      "Epoch #6: frecuency is 0.710000\n",
      "Epoch #7: frecuency is 0.720000\n",
      "Epoch #8: frecuency is 0.740000\n",
      "Epoch #9: frecuency is 0.740000\n",
      "Epoch #10: frecuency is 0.770000\n",
      "Epoch #11: frecuency is 0.760000\n",
      "Epoch #12: frecuency is 0.770000\n",
      "Epoch #13: frecuency is 0.780000\n",
      "Epoch #14: frecuency is 0.780000\n"
     ]
    }
   ],
   "source": [
    "w_T, vt = reset_parameters(d)\n",
    "frec_arr_1 = train_model(train_data, test_data, w_T, vt, n_epoch=15, gamma=0.9, learning_rate=0.01)"
   ]
  },
  {
   "cell_type": "code",
   "execution_count": 32,
   "metadata": {},
   "outputs": [
    {
     "name": "stdout",
     "output_type": "stream",
     "text": [
      "Epoch #0: frecuency is 0.190000\n",
      "Epoch #1: frecuency is 0.210000\n",
      "Epoch #2: frecuency is 0.230000\n",
      "Epoch #3: frecuency is 0.220000\n",
      "Epoch #4: frecuency is 0.230000\n",
      "Epoch #5: frecuency is 0.240000\n",
      "Epoch #6: frecuency is 0.240000\n",
      "Epoch #7: frecuency is 0.230000\n",
      "Epoch #8: frecuency is 0.220000\n",
      "Epoch #9: frecuency is 0.240000\n",
      "Epoch #10: frecuency is 0.230000\n",
      "Epoch #11: frecuency is 0.240000\n",
      "Epoch #12: frecuency is 0.220000\n",
      "Epoch #13: frecuency is 0.230000\n",
      "Epoch #14: frecuency is 0.210000\n"
     ]
    }
   ],
   "source": [
    "w_T, vt = reset_parameters(d)\n",
    "frec_arr_2 = train_model(train_data, test_data, w_T, vt, n_epoch=15, gamma=0.9, learning_rate=0.1)"
   ]
  },
  {
   "cell_type": "code",
   "execution_count": 35,
   "metadata": {},
   "outputs": [
    {
     "name": "stdout",
     "output_type": "stream",
     "text": [
      "Epoch #0: frecuency is 0.120000\n",
      "Epoch #1: frecuency is 0.150000\n",
      "Epoch #2: frecuency is 0.200000\n",
      "Epoch #3: frecuency is 0.240000\n",
      "Epoch #4: frecuency is 0.290000\n",
      "Epoch #5: frecuency is 0.330000\n",
      "Epoch #6: frecuency is 0.380000\n",
      "Epoch #7: frecuency is 0.410000\n",
      "Epoch #8: frecuency is 0.420000\n",
      "Epoch #9: frecuency is 0.460000\n",
      "Epoch #10: frecuency is 0.470000\n",
      "Epoch #11: frecuency is 0.490000\n",
      "Epoch #12: frecuency is 0.490000\n",
      "Epoch #13: frecuency is 0.500000\n",
      "Epoch #14: frecuency is 0.510000\n"
     ]
    }
   ],
   "source": [
    "w_T, vt = reset_parameters(d)\n",
    "frec_arr_3 = train_model(train_data, test_data, w_T, vt, n_epoch=15, gamma=0.9, learning_rate=0.001)"
   ]
  },
  {
   "cell_type": "code",
   "execution_count": 54,
   "metadata": {},
   "outputs": [
    {
     "name": "stdout",
     "output_type": "stream",
     "text": [
      "Epoch #0: frecuency is 0.230000\n",
      "Epoch #1: frecuency is 0.210000\n",
      "Epoch #2: frecuency is 0.230000\n",
      "Epoch #3: frecuency is 0.220000\n",
      "Epoch #4: frecuency is 0.230000\n",
      "Epoch #5: frecuency is 0.220000\n",
      "Epoch #6: frecuency is 0.240000\n",
      "Epoch #7: frecuency is 0.240000\n",
      "Epoch #8: frecuency is 0.240000\n",
      "Epoch #9: frecuency is 0.260000\n",
      "Epoch #10: frecuency is 0.270000\n",
      "Epoch #11: frecuency is 0.290000\n",
      "Epoch #12: frecuency is 0.290000\n",
      "Epoch #13: frecuency is 0.270000\n",
      "Epoch #14: frecuency is 0.270000\n"
     ]
    }
   ],
   "source": [
    "w_T, vt = reset_parameters(d)\n",
    "frec_arr_6 = train_model(train_data, test_data, w_T, vt, n_epoch=15, gamma=0.99, learning_rate=0.01)"
   ]
  },
  {
   "cell_type": "code",
   "execution_count": 36,
   "metadata": {},
   "outputs": [
    {
     "name": "stdout",
     "output_type": "stream",
     "text": [
      "Epoch #0: frecuency is 0.180000\n",
      "Epoch #1: frecuency is 0.300000\n",
      "Epoch #2: frecuency is 0.390000\n",
      "Epoch #3: frecuency is 0.440000\n",
      "Epoch #4: frecuency is 0.470000\n",
      "Epoch #5: frecuency is 0.510000\n",
      "Epoch #6: frecuency is 0.530000\n",
      "Epoch #7: frecuency is 0.540000\n",
      "Epoch #8: frecuency is 0.570000\n",
      "Epoch #9: frecuency is 0.580000\n",
      "Epoch #10: frecuency is 0.590000\n",
      "Epoch #11: frecuency is 0.610000\n",
      "Epoch #12: frecuency is 0.630000\n",
      "Epoch #13: frecuency is 0.640000\n",
      "Epoch #14: frecuency is 0.650000\n"
     ]
    }
   ],
   "source": [
    "w_T, vt = reset_parameters(d)\n",
    "frec_arr_4 = train_model(train_data, test_data, w_T, vt, n_epoch=15, gamma=0.5, learning_rate=0.01)"
   ]
  },
  {
   "cell_type": "code",
   "execution_count": 38,
   "metadata": {},
   "outputs": [
    {
     "name": "stdout",
     "output_type": "stream",
     "text": [
      "Epoch #0: frecuency is 0.140000\n",
      "Epoch #1: frecuency is 0.190000\n",
      "Epoch #2: frecuency is 0.240000\n",
      "Epoch #3: frecuency is 0.300000\n",
      "Epoch #4: frecuency is 0.340000\n",
      "Epoch #5: frecuency is 0.390000\n",
      "Epoch #6: frecuency is 0.420000\n",
      "Epoch #7: frecuency is 0.440000\n",
      "Epoch #8: frecuency is 0.460000\n",
      "Epoch #9: frecuency is 0.480000\n",
      "Epoch #10: frecuency is 0.490000\n",
      "Epoch #11: frecuency is 0.500000\n",
      "Epoch #12: frecuency is 0.520000\n",
      "Epoch #13: frecuency is 0.530000\n",
      "Epoch #14: frecuency is 0.540000\n"
     ]
    }
   ],
   "source": [
    "w_T, vt = reset_parameters(d)\n",
    "frec_arr_5 = train_model(train_data, test_data, w_T, vt, n_epoch=15, gamma=0.1, learning_rate=0.01)"
   ]
  },
  {
   "cell_type": "code",
   "execution_count": 55,
   "metadata": {},
   "outputs": [
    {
     "data": {
      "text/plain": [
       "<matplotlib.legend.Legend at 0x141d0cc18>"
      ]
     },
     "execution_count": 55,
     "metadata": {},
     "output_type": "execute_result"
    },
    {
     "data": {
      "image/png": "[encoded data removed]",
      "text/plain": [
       "<Figure size 1080x720 with 1 Axes>"
      ]
     },
     "metadata": {},
     "output_type": "display_data"
    }
   ],
   "source": [
    "epoch_arr = np.arange(0, 15)\n",
    "plt.figure(figsize = (15, 10))\n",
    "\n",
    "plt.plot(epoch_arr, frec_arr_1, label = 'gamma=0.9 & l.r.=0.01', linewidth=4.0)\n",
    "plt.plot(epoch_arr, frec_arr_2, label = 'gamma=0.9 & l.r.=0.1', linewidth=4.0)\n",
    "plt.plot(epoch_arr, frec_arr_3, label = 'gamma=0.9 & l.r.=0.001', linewidth=4.0)\n",
    "plt.plot(epoch_arr, frec_arr_4, label = 'gamma=0.5 & l.r.=0.01', linewidth=4.0)\n",
    "plt.plot(epoch_arr, frec_arr_5, label = 'gamma=0.1 & l.r.=0.01', linewidth=4.0)\n",
    "plt.plot(epoch_arr, frec_arr_6, label = 'gamma=0.99 & l.r.=0.01', linewidth=4.0)\n",
    "\n",
    "plt.title('Compare networks with different parametrs on test samples')\n",
    "plt.xlabel('number of epochs')\n",
    "plt.ylabel('recall at 10')\n",
    "plt.xticks(epoch_arr)\n",
    "plt.legend()"
   ]
  },
  {
   "cell_type": "markdown",
   "metadata": {},
   "source": [
    "#### As you can see from the plot, the best model for this data is model with gamma=0.9 and learning_rate=0.01"
   ]
  },
  {
   "cell_type": "markdown",
   "metadata": {},
   "source": [
    "#### Now we try to train this model while frecuency on test score will increase"
   ]
  },
  {
   "cell_type": "code",
   "execution_count": 93,
   "metadata": {
    "collapsed": true
   },
   "outputs": [],
   "source": [
    "def train_best_model(train_data, test_data, w_T, vt, gamma=0.9, learning_rate=0.01, constraints=True):\n",
    "    frec_arr = []\n",
    "    w_T_best = None\n",
    "    s = 0\n",
    "    last_freac = 0\n",
    "    ep = 0\n",
    "    while last_freac < 1 and s < 3:\n",
    "        w_T, vt = train(train_data, w_T, vt, gamma, learning_rate, constraints)\n",
    "        frecuency = evaluate(test_data, w_T)\n",
    "        print(\"\\rEpoch #\" + str(ep) + \": frecuency is %f\" %round(frecuency, 2))\n",
    "        if frecuency - last_freac < 0.005:\n",
    "            s += 1\n",
    "        else:\n",
    "            w_T_best = w_T \n",
    "            if s > 0:\n",
    "                s = 0\n",
    "        frec_arr.append(frecuency)\n",
    "        last_freac = frecuency\n",
    "        ep += 1\n",
    "    return frec_arr, w_T_best"
   ]
  },
  {
   "cell_type": "code",
   "execution_count": 94,
   "metadata": {},
   "outputs": [
    {
     "name": "stdout",
     "output_type": "stream",
     "text": [
      "Epoch #0: frecuency is 0.410000\n",
      "Epoch #1: frecuency is 0.530000\n",
      "Epoch #2: frecuency is 0.560000\n",
      "Epoch #3: frecuency is 0.600000\n",
      "Epoch #4: frecuency is 0.630000\n",
      "Epoch #5: frecuency is 0.670000\n",
      "Epoch #6: frecuency is 0.690000\n",
      "Epoch #7: frecuency is 0.690000\n",
      "Epoch #8: frecuency is 0.700000\n",
      "Epoch #9: frecuency is 0.700000\n",
      "Epoch #10: frecuency is 0.720000\n",
      "Epoch #11: frecuency is 0.730000\n",
      "Epoch #12: frecuency is 0.740000\n",
      "Epoch #13: frecuency is 0.750000\n",
      "Epoch #14: frecuency is 0.760000\n",
      "Epoch #15: frecuency is 0.770000\n",
      "Epoch #16: frecuency is 0.770000\n",
      "Epoch #17: frecuency is 0.770000\n",
      "Epoch #18: frecuency is 0.780000\n",
      "Epoch #19: frecuency is 0.770000\n",
      "Epoch #20: frecuency is 0.780000\n",
      "Epoch #21: frecuency is 0.790000\n",
      "Epoch #22: frecuency is 0.800000\n",
      "Epoch #23: frecuency is 0.800000\n",
      "Epoch #24: frecuency is 0.800000\n",
      "Epoch #25: frecuency is 0.800000\n",
      "Epoch #26: frecuency is 0.810000\n",
      "Epoch #27: frecuency is 0.810000\n",
      "Epoch #28: frecuency is 0.810000\n",
      "Epoch #29: frecuency is 0.810000\n"
     ]
    }
   ],
   "source": [
    "w_T, vt = reset_parameters(d)\n",
    "frec_arr_best, w_T_best = train_best_model(train_data, test_data, w_T, vt, gamma=0.9, learning_rate=0.01)"
   ]
  },
  {
   "cell_type": "code",
   "execution_count": 95,
   "metadata": {},
   "outputs": [
    {
     "data": {
      "text/plain": [
       "<matplotlib.legend.Legend at 0x15ac7f710>"
      ]
     },
     "execution_count": 95,
     "metadata": {},
     "output_type": "execute_result"
    },
    {
     "data": {
      "image/png": "[encoded data removed]",
      "text/plain": [
       "<Figure size 1080x720 with 1 Axes>"
      ]
     },
     "metadata": {},
     "output_type": "display_data"
    }
   ],
   "source": [
    "epoch_arr = np.arange(0, len(frec_arr_best))\n",
    "plt.figure(figsize = (15, 10))\n",
    "\n",
    "plt.plot(epoch_arr, frec_arr_best, label = 'Model with best parametrs', linewidth=4.0)\n",
    "\n",
    "plt.title('Frequency on train sample')\n",
    "plt.xlabel('number of epochs')\n",
    "plt.ylabel('recall at 10 nearest')\n",
    "plt.xticks(epoch_arr)\n",
    "plt.legend()"
   ]
  },
  {
   "cell_type": "markdown",
   "metadata": {},
   "source": [
    "#### Explore the final embedding by finding the nearest words for the current one"
   ]
  },
  {
   "cell_type": "code",
   "execution_count": 101,
   "metadata": {
    "collapsed": true
   },
   "outputs": [],
   "source": [
    "# find neighboring for words\n",
    "def knn(w_T, ind, k=10):\n",
    "    dist_arr = []\n",
    "    for i in range(0, w_T.shape[0]):\n",
    "        dist_arr.append((i, 1 - cos_simularity(w_T[ind], w_T[i])))\n",
    "    dist_arr = np.array(dist_arr, dtype=[('index', int), ('dist', float)])\n",
    "    dist_arr = np.sort(dist_arr, order='dist') \n",
    "    print(\"Input world -\", ind_to_word[ind])\n",
    "    print(\"Neighbors:\")\n",
    "    for j in range(0, k):\n",
    "        if dist_arr[j]['index'] != ind:\n",
    "            print(\"\\t\" + ind_to_word[dist_arr[j]['index']])"
   ]
  },
  {
   "cell_type": "code",
   "execution_count": 102,
   "metadata": {},
   "outputs": [
    {
     "name": "stdout",
     "output_type": "stream",
     "text": [
      "Input world - сбербанк\n",
      "Neighbors:\n",
      "\tдочерняя\n",
      "\tпроцентного\n",
      "\tповысил\n",
      "\tвкладов\n",
      "\tлишившегося\n",
      "\tипотеку\n",
      "\tсгк\n",
      "\tпроизводство\n",
      "\tцен\n"
     ]
    }
   ],
   "source": [
    "word_index = vocabulary.get(\"сбербанк\", None)\n",
    "if word_index is not None:\n",
    "    knn(w_T_best, word_index)"
   ]
  },
  {
   "cell_type": "code",
   "execution_count": 104,
   "metadata": {
    "scrolled": true
   },
   "outputs": [
    {
     "name": "stdout",
     "output_type": "stream",
     "text": [
      "Input world - путина\n",
      "Neighbors:\n",
      "\tпутиным\n",
      "\tадекватный\n",
      "\tвладимира\n",
      "\tвладимиру\n",
      "\tпутину\n",
      "\tнадзора\n",
      "\tприеме\n",
      "\tмайского\n",
      "\tнаграждении\n"
     ]
    }
   ],
   "source": [
    "word_index = vocabulary.get(\"путина\", None)\n",
    "if word_index is not None:\n",
    "    knn(w_T_best, word_index)"
   ]
  },
  {
   "cell_type": "code",
   "execution_count": 107,
   "metadata": {},
   "outputs": [
    {
     "name": "stdout",
     "output_type": "stream",
     "text": [
      "Input world - пожарный\n",
      "Neighbors:\n",
      "\tэвакуации\n",
      "\tкировском\n",
      "\tавиалиний\n",
      "\tсклад\n",
      "\tпревышения\n",
      "\tмусорных\n",
      "\tреальную\n",
      "\tкровли\n",
      "\tлокализован\n"
     ]
    }
   ],
   "source": [
    "word_index = vocabulary.get(\"пожарный\", None)\n",
    "if word_index is not None:\n",
    "    knn(w_T_best, word_index)"
   ]
  },
  {
   "cell_type": "code",
   "execution_count": 108,
   "metadata": {},
   "outputs": [
    {
     "name": "stdout",
     "output_type": "stream",
     "text": [
      "Input world - трагедия\n",
      "Neighbors:\n",
      "\tкизляре\n",
      "\tпострадавшие\n",
      "\tизраильтяне\n",
      "\tнаходятся\n",
      "\tпищу\n",
      "\tуточняет\n",
      "\tторнадо\n",
      "\tмуниципалитете\n",
      "\tгрозном\n"
     ]
    }
   ],
   "source": [
    "word_index = vocabulary.get(\"трагедия\", None)\n",
    "if word_index is not None:\n",
    "    knn(w_T_best, word_index)"
   ]
  },
  {
   "cell_type": "code",
   "execution_count": 110,
   "metadata": {},
   "outputs": [
    {
     "name": "stdout",
     "output_type": "stream",
     "text": [
      "Input world - награждения\n",
      "Neighbors:\n",
      "\tвыпускающий\n",
      "\tпереезда\n",
      "\tцеремонию\n",
      "\tлауреата\n",
      "\tфинская\n",
      "\tхип\n",
      "\tлетающие\n",
      "\tпосмотрел\n",
      "\tгоголь\n"
     ]
    }
   ],
   "source": [
    "word_index = vocabulary.get(\"награждения\", None)\n",
    "if word_index is not None:\n",
    "    knn(w_T_best, word_index)"
   ]
  },
  {
   "cell_type": "code",
   "execution_count": 111,
   "metadata": {},
   "outputs": [
    {
     "name": "stdout",
     "output_type": "stream",
     "text": [
      "Input world - балет\n",
      "Neighbors:\n",
      "\tсоюзмультфильм\n",
      "\tхабенского\n",
      "\tхворостовского\n",
      "\tтотальный\n",
      "\tхудожником\n",
      "\tискусство\n",
      "\tфотоленте\n",
      "\tразвлечений\n",
      "\tхантер\n"
     ]
    }
   ],
   "source": [
    "word_index = vocabulary.get(\"балет\", None)\n",
    "if word_index is not None:\n",
    "    knn(w_T_best, word_index)"
   ]
  },
  {
   "cell_type": "code",
   "execution_count": 113,
   "metadata": {},
   "outputs": [
    {
     "name": "stdout",
     "output_type": "stream",
     "text": [
      "Input world - экономика\n",
      "Neighbors:\n",
      "\tцифровая\n",
      "\tрыбной\n",
      "\tкапитала\n",
      "\tшувалов\n",
      "\tдоступности\n",
      "\tмень\n",
      "\tзамминистра\n",
      "\tапк\n",
      "\tимпортных\n"
     ]
    }
   ],
   "source": [
    "word_index = vocabulary.get(\"экономика\", None)\n",
    "if word_index is not None:\n",
    "    knn(w_T_best, word_index)"
   ]
  }
 ],
 "metadata": {
  "kernelspec": {
   "display_name": "Python 3",
   "language": "python",
   "name": "python3"
  },
  "language_info": {
   "codemirror_mode": {
    "name": "ipython",
    "version": 3
   },
   "file_extension": ".py",
   "mimetype": "text/x-python",
   "name": "python",
   "nbconvert_exporter": "python",
   "pygments_lexer": "ipython3",
   "version": "3.6.1"
  }
 },
 "nbformat": 4,
 "nbformat_minor": 2
}
