{
 "cells": [
  {
   "cell_type": "markdown",
   "metadata": {},
   "source": [
    "# Laboratory work №4"
   ]
  },
  {
   "cell_type": "markdown",
   "metadata": {},
   "source": [
    "### Maslennikova Elizaveta, Shchegletova Tatyana 18IAD"
   ]
  },
  {
   "cell_type": "markdown",
   "metadata": {},
   "source": [
    "#### loss = :top1, opt = :sgdm, agg = :sum, constr = :nneg"
   ]
  },
  {
   "cell_type": "code",
   "execution_count": 1,
   "metadata": {},
   "outputs": [
    {
     "name": "stdout",
     "output_type": "stream",
     "text": [
      "[nltk_data] Downloading package stopwords to\n",
      "[nltk_data]     /Users/elizavetamaslennikova/nltk_data...\n",
      "[nltk_data]   Package stopwords is already up-to-date!\n"
     ]
    },
    {
     "data": {
      "text/plain": [
       "True"
      ]
     },
     "execution_count": 1,
     "metadata": {},
     "output_type": "execute_result"
    }
   ],
   "source": [
    "import pandas as pd\n",
    "from sklearn import datasets\n",
    "import sys\n",
    "import re\n",
    "from sklearn.feature_extraction.text import CountVectorizer\n",
    "from sklearn.preprocessing import normalize\n",
    "import math\n",
    "from scipy.sparse import csc_matrix, csr_matrix, linalg, diags\n",
    "import numpy as np\n",
    "from nltk.corpus import stopwords\n",
    "import heapq\n",
    "import json\n",
    "from sklearn.feature_extraction.text import CountVectorizer\n",
    "from pymystem3 import Mystem\n",
    "from sklearn.model_selection import train_test_split\n",
    "from sklearn.metrics.pairwise import cosine_similarity\n",
    "import re \n",
    "import nltk  \n",
    "nltk.download('stopwords') "
   ]
  },
  {
   "cell_type": "code",
   "execution_count": 2,
   "metadata": {
    "collapsed": true
   },
   "outputs": [],
   "source": [
    "import warnings\n",
    "warnings.filterwarnings(\"ignore\")"
   ]
  },
  {
   "cell_type": "markdown",
   "metadata": {},
   "source": [
    "### Reading data "
   ]
  },
  {
   "cell_type": "code",
   "execution_count": 3,
   "metadata": {},
   "outputs": [
    {
     "data": {
      "text/html": [
       "<div>\n",
       "<style>\n",
       "    .dataframe thead tr:only-child th {\n",
       "        text-align: right;\n",
       "    }\n",
       "\n",
       "    .dataframe thead th {\n",
       "        text-align: left;\n",
       "    }\n",
       "\n",
       "    .dataframe tbody tr th {\n",
       "        vertical-align: top;\n",
       "    }\n",
       "</style>\n",
       "<table border=\"1\" class=\"dataframe\">\n",
       "  <thead>\n",
       "    <tr style=\"text-align: right;\">\n",
       "      <th></th>\n",
       "      <th>text</th>\n",
       "      <th>title</th>\n",
       "    </tr>\n",
       "  </thead>\n",
       "  <tbody>\n",
       "    <tr>\n",
       "      <th>0</th>\n",
       "      <td>Телеведущая Ксения Собчак считает, что художе...</td>\n",
       "      <td>Серебренников создал не просто театр, а \"центр...</td>\n",
       "    </tr>\n",
       "    <tr>\n",
       "      <th>1</th>\n",
       "      <td>Интернет-сервис Amazo удалил с сайта объявлени...</td>\n",
       "      <td>Американка сняла на видео \"профессиональный\" ф...</td>\n",
       "    </tr>\n",
       "    <tr>\n",
       "      <th>2</th>\n",
       "      <td>Волейболисты \"Урала\" достойно сыграли против к...</td>\n",
       "      <td>Антонов: волейболисты \"Урала\" рады, что \"Зенит...</td>\n",
       "    </tr>\n",
       "    <tr>\n",
       "      <th>3</th>\n",
       "      <td>Спортивный арбитражный суд (CAS) оправдал росс...</td>\n",
       "      <td>Даже CAS не аргумент. Почему МОК нарушает олим...</td>\n",
       "    </tr>\n",
       "    <tr>\n",
       "      <th>4</th>\n",
       "      <td>Вашингтон пытается подвергнуть сомнению право...</td>\n",
       "      <td>США подвергают сомнению право России на самооб...</td>\n",
       "    </tr>\n",
       "  </tbody>\n",
       "</table>\n",
       "</div>"
      ],
      "text/plain": [
       "                                                text  \\\n",
       "0   Телеведущая Ксения Собчак считает, что художе...   \n",
       "1  Интернет-сервис Amazo удалил с сайта объявлени...   \n",
       "2  Волейболисты \"Урала\" достойно сыграли против к...   \n",
       "3  Спортивный арбитражный суд (CAS) оправдал росс...   \n",
       "4   Вашингтон пытается подвергнуть сомнению право...   \n",
       "\n",
       "                                               title  \n",
       "0  Серебренников создал не просто театр, а \"центр...  \n",
       "1  Американка сняла на видео \"профессиональный\" ф...  \n",
       "2  Антонов: волейболисты \"Урала\" рады, что \"Зенит...  \n",
       "3  Даже CAS не аргумент. Почему МОК нарушает олим...  \n",
       "4  США подвергают сомнению право России на самооб...  "
      ]
     },
     "execution_count": 3,
     "metadata": {},
     "output_type": "execute_result"
    }
   ],
   "source": [
    "data = pd.read_json('output.json')\n",
    "data.head()"
   ]
  },
  {
   "cell_type": "code",
   "execution_count": 4,
   "metadata": {},
   "outputs": [
    {
     "data": {
      "text/plain": [
       "(103778, 2)"
      ]
     },
     "execution_count": 4,
     "metadata": {},
     "output_type": "execute_result"
    }
   ],
   "source": [
    "data.shape"
   ]
  },
  {
   "cell_type": "code",
   "execution_count": 5,
   "metadata": {},
   "outputs": [
    {
     "data": {
      "text/html": [
       "<div>\n",
       "<style>\n",
       "    .dataframe thead tr:only-child th {\n",
       "        text-align: right;\n",
       "    }\n",
       "\n",
       "    .dataframe thead th {\n",
       "        text-align: left;\n",
       "    }\n",
       "\n",
       "    .dataframe tbody tr th {\n",
       "        vertical-align: top;\n",
       "    }\n",
       "</style>\n",
       "<table border=\"1\" class=\"dataframe\">\n",
       "  <thead>\n",
       "    <tr style=\"text-align: right;\">\n",
       "      <th></th>\n",
       "      <th>text</th>\n",
       "      <th>title</th>\n",
       "    </tr>\n",
       "  </thead>\n",
       "  <tbody>\n",
       "    <tr>\n",
       "      <th>count</th>\n",
       "      <td>103778</td>\n",
       "      <td>103778</td>\n",
       "    </tr>\n",
       "    <tr>\n",
       "      <th>unique</th>\n",
       "      <td>103599</td>\n",
       "      <td>103284</td>\n",
       "    </tr>\n",
       "    <tr>\n",
       "      <th>top</th>\n",
       "      <td>Ria.ru предлагает вниманию читателей самые ярк...</td>\n",
       "      <td>В Минобороны отчитались о ситуации в зонах деэ...</td>\n",
       "    </tr>\n",
       "    <tr>\n",
       "      <th>freq</th>\n",
       "      <td>14</td>\n",
       "      <td>111</td>\n",
       "    </tr>\n",
       "  </tbody>\n",
       "</table>\n",
       "</div>"
      ],
      "text/plain": [
       "                                                     text  \\\n",
       "count                                              103778   \n",
       "unique                                             103599   \n",
       "top     Ria.ru предлагает вниманию читателей самые ярк...   \n",
       "freq                                                   14   \n",
       "\n",
       "                                                    title  \n",
       "count                                              103778  \n",
       "unique                                             103284  \n",
       "top     В Минобороны отчитались о ситуации в зонах деэ...  \n",
       "freq                                                  111  "
      ]
     },
     "execution_count": 5,
     "metadata": {},
     "output_type": "execute_result"
    }
   ],
   "source": [
    "data.describe()"
   ]
  },
  {
   "cell_type": "markdown",
   "metadata": {},
   "source": [
    "#### Delete duplicates from titles and texts:"
   ]
  },
  {
   "cell_type": "code",
   "execution_count": 6,
   "metadata": {
    "scrolled": true
   },
   "outputs": [
    {
     "data": {
      "text/html": [
       "<div>\n",
       "<style>\n",
       "    .dataframe thead tr:only-child th {\n",
       "        text-align: right;\n",
       "    }\n",
       "\n",
       "    .dataframe thead th {\n",
       "        text-align: left;\n",
       "    }\n",
       "\n",
       "    .dataframe tbody tr th {\n",
       "        vertical-align: top;\n",
       "    }\n",
       "</style>\n",
       "<table border=\"1\" class=\"dataframe\">\n",
       "  <thead>\n",
       "    <tr style=\"text-align: right;\">\n",
       "      <th></th>\n",
       "      <th>text</th>\n",
       "      <th>title</th>\n",
       "    </tr>\n",
       "  </thead>\n",
       "  <tbody>\n",
       "    <tr>\n",
       "      <th>count</th>\n",
       "      <td>103132</td>\n",
       "      <td>103132</td>\n",
       "    </tr>\n",
       "    <tr>\n",
       "      <th>unique</th>\n",
       "      <td>103132</td>\n",
       "      <td>103132</td>\n",
       "    </tr>\n",
       "    <tr>\n",
       "      <th>top</th>\n",
       "      <td>. Госсекретарь США Майк Помпео не исключает, ч...</td>\n",
       "      <td>СМИ: Пол Джордж договорился с \"Оклахома-Сити\" ...</td>\n",
       "    </tr>\n",
       "    <tr>\n",
       "      <th>freq</th>\n",
       "      <td>1</td>\n",
       "      <td>1</td>\n",
       "    </tr>\n",
       "  </tbody>\n",
       "</table>\n",
       "</div>"
      ],
      "text/plain": [
       "                                                     text  \\\n",
       "count                                              103132   \n",
       "unique                                             103132   \n",
       "top     . Госсекретарь США Майк Помпео не исключает, ч...   \n",
       "freq                                                    1   \n",
       "\n",
       "                                                    title  \n",
       "count                                              103132  \n",
       "unique                                             103132  \n",
       "top     СМИ: Пол Джордж договорился с \"Оклахома-Сити\" ...  \n",
       "freq                                                    1  "
      ]
     },
     "execution_count": 6,
     "metadata": {},
     "output_type": "execute_result"
    }
   ],
   "source": [
    "data = data.drop_duplicates()\n",
    "data = data.drop_duplicates(subset=[\"text\"])\n",
    "data = data.drop_duplicates(subset=[\"title\"])\n",
    "data.describe()"
   ]
  },
  {
   "cell_type": "code",
   "execution_count": 7,
   "metadata": {},
   "outputs": [
    {
     "data": {
      "text/html": [
       "<div>\n",
       "<style>\n",
       "    .dataframe thead tr:only-child th {\n",
       "        text-align: right;\n",
       "    }\n",
       "\n",
       "    .dataframe thead th {\n",
       "        text-align: left;\n",
       "    }\n",
       "\n",
       "    .dataframe tbody tr th {\n",
       "        vertical-align: top;\n",
       "    }\n",
       "</style>\n",
       "<table border=\"1\" class=\"dataframe\">\n",
       "  <thead>\n",
       "    <tr style=\"text-align: right;\">\n",
       "      <th></th>\n",
       "      <th>text</th>\n",
       "      <th>title</th>\n",
       "    </tr>\n",
       "  </thead>\n",
       "  <tbody>\n",
       "    <tr>\n",
       "      <th>103127</th>\n",
       "      <td>Монах-францисканец Питер Табичи на церемонии ...</td>\n",
       "      <td>В Дубае \"лучшему учителю в мире\" вручили милли...</td>\n",
       "    </tr>\n",
       "    <tr>\n",
       "      <th>103128</th>\n",
       "      <td>Выводы Минюста США по итогам расследования сп...</td>\n",
       "      <td>В Белом доме прокомментировали выводы Минюста ...</td>\n",
       "    </tr>\n",
       "    <tr>\n",
       "      <th>103129</th>\n",
       "      <td>Российский гроссмейстер Владислав Артемьев по...</td>\n",
       "      <td>Артемьев победил в шестом туре чемпионата Евро...</td>\n",
       "    </tr>\n",
       "    <tr>\n",
       "      <th>103130</th>\n",
       "      <td>Президент США Дональд Трамп заявил, что вывод...</td>\n",
       "      <td>Трамп прокомментировал выводы Минюста по рассл...</td>\n",
       "    </tr>\n",
       "    <tr>\n",
       "      <th>103131</th>\n",
       "      <td>Бомбардировки Сербии силами НАТО были преступ...</td>\n",
       "      <td>Вучич назвал бомбардировки Сербии силами НАТО ...</td>\n",
       "    </tr>\n",
       "  </tbody>\n",
       "</table>\n",
       "</div>"
      ],
      "text/plain": [
       "                                                     text  \\\n",
       "103127   Монах-францисканец Питер Табичи на церемонии ...   \n",
       "103128   Выводы Минюста США по итогам расследования сп...   \n",
       "103129   Российский гроссмейстер Владислав Артемьев по...   \n",
       "103130   Президент США Дональд Трамп заявил, что вывод...   \n",
       "103131   Бомбардировки Сербии силами НАТО были преступ...   \n",
       "\n",
       "                                                    title  \n",
       "103127  В Дубае \"лучшему учителю в мире\" вручили милли...  \n",
       "103128  В Белом доме прокомментировали выводы Минюста ...  \n",
       "103129  Артемьев победил в шестом туре чемпионата Евро...  \n",
       "103130  Трамп прокомментировал выводы Минюста по рассл...  \n",
       "103131  Вучич назвал бомбардировки Сербии силами НАТО ...  "
      ]
     },
     "execution_count": 7,
     "metadata": {},
     "output_type": "execute_result"
    }
   ],
   "source": [
    "data.index = range(0, data.shape[0])\n",
    "data.tail()"
   ]
  },
  {
   "cell_type": "code",
   "execution_count": 8,
   "metadata": {},
   "outputs": [
    {
     "data": {
      "text/plain": [
       "(206264,)"
      ]
     },
     "execution_count": 8,
     "metadata": {},
     "output_type": "execute_result"
    }
   ],
   "source": [
    "title_texts = pd.concat([data['title'], data[\"text\"]], ignore_index=True)\n",
    "title_texts.shape"
   ]
  },
  {
   "cell_type": "markdown",
   "metadata": {},
   "source": [
    "#### Create vocabulary and transform input data "
   ]
  },
  {
   "cell_type": "code",
   "execution_count": 9,
   "metadata": {
    "collapsed": true,
    "scrolled": true
   },
   "outputs": [],
   "source": [
    "model = Mystem()\n",
    "\n",
    "def tokenize(string):\n",
    "    string = re.sub(r'\\W', ' ',  string)\n",
    "    string = re.sub(r'\\s+', ' ', string, flags=re.I)\n",
    "    tokens = re.findall(r'\\b[0-9А-Яа-я]{1,}\\b', string)\n",
    "    tokens = ' '.join(tokens)\n",
    "    lemmas = model.lemmatize(tokens)\n",
    "    words = [l for l in lemmas if len(l) > 1]\n",
    "    return words"
   ]
  },
  {
   "cell_type": "code",
   "execution_count": 10,
   "metadata": {},
   "outputs": [
    {
     "data": {
      "text/plain": [
       "CountVectorizer(analyzer='word', binary=False, decode_error='strict',\n",
       "        dtype=<class 'numpy.int64'>, encoding='utf-8', input='content',\n",
       "        lowercase=True, max_df=0.3, max_features=None, min_df=10,\n",
       "        ngram_range=(1, 1), preprocessor=None,\n",
       "        stop_words=['и', 'в', 'во', 'не', 'что', 'он', 'на', 'я', 'с', 'со', 'как', 'а', 'то', 'все', 'она', 'так', 'его', 'но', 'да', 'ты', 'к', 'у', 'же', 'вы', 'за', 'бы', 'по', 'только', 'ее', 'мне', 'было', 'вот', 'от', 'меня', 'еще', 'нет', 'о', 'из', 'ему', 'теперь', 'когда', 'даже', 'ну', 'вдруг', '...гда', 'лучше', 'чуть', 'том', 'нельзя', 'такой', 'им', 'более', 'всегда', 'конечно', 'всю', 'между'],\n",
       "        strip_accents=None, token_pattern='(?u)\\\\b\\\\w\\\\w+\\\\b',\n",
       "        tokenizer=<function tokenize at 0x1473a78c8>, vocabulary=None)"
      ]
     },
     "execution_count": 10,
     "metadata": {},
     "output_type": "execute_result"
    }
   ],
   "source": [
    "vectorizer = CountVectorizer(\n",
    "    tokenizer = tokenize,\n",
    "    min_df = 10, \n",
    "    max_df = 0.3,\n",
    "    stop_words=stopwords.words('russian'))\n",
    "\n",
    "vectorizer.fit(title_texts)"
   ]
  },
  {
   "cell_type": "code",
   "execution_count": 11,
   "metadata": {
    "collapsed": true
   },
   "outputs": [],
   "source": [
    "vocabulary = vectorizer.vocabulary_"
   ]
  },
  {
   "cell_type": "code",
   "execution_count": 12,
   "metadata": {},
   "outputs": [
    {
     "data": {
      "text/plain": [
       "[('серебренников', 12165),\n",
       " ('создавать', 12612),\n",
       " ('просто', 10770),\n",
       " ('театр', 13383),\n",
       " ('центр', 14891),\n",
       " ('сила', 12223),\n",
       " ('считать', 13233),\n",
       " ('собчак', 12553),\n",
       " ('американка', 628),\n",
       " ('снимать', 12519)]"
      ]
     },
     "execution_count": 12,
     "metadata": {},
     "output_type": "execute_result"
    }
   ],
   "source": [
    "list(vocabulary.items())[:10]"
   ]
  },
  {
   "cell_type": "code",
   "execution_count": 13,
   "metadata": {},
   "outputs": [
    {
     "data": {
      "text/plain": [
       "[(12165, 'серебренников'),\n",
       " (12612, 'создавать'),\n",
       " (10770, 'просто'),\n",
       " (13383, 'театр'),\n",
       " (14891, 'центр'),\n",
       " (12223, 'сила'),\n",
       " (13233, 'считать'),\n",
       " (12553, 'собчак'),\n",
       " (628, 'американка'),\n",
       " (12519, 'снимать')]"
      ]
     },
     "execution_count": 13,
     "metadata": {},
     "output_type": "execute_result"
    }
   ],
   "source": [
    "ind_to_word = {}\n",
    "for w, i in vocabulary.items():\n",
    "    ind_to_word[i] = w\n",
    "list(ind_to_word.items())[:10]"
   ]
  },
  {
   "cell_type": "code",
   "execution_count": 14,
   "metadata": {
    "collapsed": true
   },
   "outputs": [],
   "source": [
    "tokinizer = vectorizer.build_tokenizer()"
   ]
  },
  {
   "cell_type": "code",
   "execution_count": 15,
   "metadata": {},
   "outputs": [
    {
     "data": {
      "text/plain": [
       "<103132x15759 sparse matrix of type '<class 'numpy.int64'>'\n",
       "\twith 712001 stored elements in Compressed Sparse Row format>"
      ]
     },
     "execution_count": 15,
     "metadata": {},
     "output_type": "execute_result"
    }
   ],
   "source": [
    "title_tok = vectorizer.transform(data['title'])\n",
    "title_tok"
   ]
  },
  {
   "cell_type": "code",
   "execution_count": 16,
   "metadata": {},
   "outputs": [
    {
     "data": {
      "text/plain": [
       "<103132x15759 sparse matrix of type '<class 'numpy.int64'>'\n",
       "\twith 2016978 stored elements in Compressed Sparse Row format>"
      ]
     },
     "execution_count": 16,
     "metadata": {},
     "output_type": "execute_result"
    }
   ],
   "source": [
    "text_tok = vectorizer.transform(data['text'])\n",
    "text_tok"
   ]
  },
  {
   "cell_type": "code",
   "execution_count": 17,
   "metadata": {
    "collapsed": true
   },
   "outputs": [],
   "source": [
    "n_tokens = text_tok.shape[1]"
   ]
  },
  {
   "cell_type": "code",
   "execution_count": 18,
   "metadata": {},
   "outputs": [
    {
     "data": {
      "text/html": [
       "<div>\n",
       "<style>\n",
       "    .dataframe thead tr:only-child th {\n",
       "        text-align: right;\n",
       "    }\n",
       "\n",
       "    .dataframe thead th {\n",
       "        text-align: left;\n",
       "    }\n",
       "\n",
       "    .dataframe tbody tr th {\n",
       "        vertical-align: top;\n",
       "    }\n",
       "</style>\n",
       "<table border=\"1\" class=\"dataframe\">\n",
       "  <thead>\n",
       "    <tr style=\"text-align: right;\">\n",
       "      <th></th>\n",
       "      <th>Title</th>\n",
       "      <th>Text</th>\n",
       "    </tr>\n",
       "  </thead>\n",
       "  <tbody>\n",
       "    <tr>\n",
       "      <th>0</th>\n",
       "      <td>[10770, 12165, 12223, 12553, 12612, 13233, 133...</td>\n",
       "      <td>[2844, 5905, 6068, 8910, 10770, 10970, 10977, ...</td>\n",
       "    </tr>\n",
       "    <tr>\n",
       "      <th>1</th>\n",
       "      <td>[628, 1940, 9510, 10816, 12519]</td>\n",
       "      <td>[1940, 4878, 5905, 8444, 8477, 8695, 10634, 10...</td>\n",
       "    </tr>\n",
       "    <tr>\n",
       "      <th>2</th>\n",
       "      <td>[753, 2188, 4529, 5274, 10997, 14119]</td>\n",
       "      <td>[753, 2188, 2363, 3779, 4485, 4529, 5087, 6826...</td>\n",
       "    </tr>\n",
       "    <tr>\n",
       "      <th>3</th>\n",
       "      <td>[794, 7238, 7672, 8599, 10179, 14667]</td>\n",
       "      <td>[790, 2231, 3590, 3702, 3744, 4646, 5645, 6915...</td>\n",
       "    </tr>\n",
       "    <tr>\n",
       "      <th>4</th>\n",
       "      <td>[4485, 7032, 9665, 10209, 11635, 11862, 12659,...</td>\n",
       "      <td>[1742, 2542, 2839, 3003, 3382, 3681, 4896, 564...</td>\n",
       "    </tr>\n",
       "  </tbody>\n",
       "</table>\n",
       "</div>"
      ],
      "text/plain": [
       "                                               Title  \\\n",
       "0  [10770, 12165, 12223, 12553, 12612, 13233, 133...   \n",
       "1                    [628, 1940, 9510, 10816, 12519]   \n",
       "2              [753, 2188, 4529, 5274, 10997, 14119]   \n",
       "3              [794, 7238, 7672, 8599, 10179, 14667]   \n",
       "4  [4485, 7032, 9665, 10209, 11635, 11862, 12659,...   \n",
       "\n",
       "                                                Text  \n",
       "0  [2844, 5905, 6068, 8910, 10770, 10970, 10977, ...  \n",
       "1  [1940, 4878, 5905, 8444, 8477, 8695, 10634, 10...  \n",
       "2  [753, 2188, 2363, 3779, 4485, 4529, 5087, 6826...  \n",
       "3  [790, 2231, 3590, 3702, 3744, 4646, 5645, 6915...  \n",
       "4  [1742, 2542, 2839, 3003, 3382, 3681, 4896, 564...  "
      ]
     },
     "execution_count": 18,
     "metadata": {},
     "output_type": "execute_result"
    }
   ],
   "source": [
    "data_list = []\n",
    "n_1 = data.shape[0]\n",
    "for i in range(0, n_1):\n",
    "    title = title_tok.getrow(i)\n",
    "    title_ind = []\n",
    "    for ind, n in zip(title.indices, title.data):\n",
    "        title_ind += [ind for _ in range(0, n)]\n",
    "    text = text_tok.getrow(i)\n",
    "    text_ind = []\n",
    "    for ind, n in zip(text.indices, text.data):\n",
    "        text_ind += [ind for _ in range(0, n)]\n",
    "    data_list.append([title_ind, text_ind])\n",
    "        \n",
    "data_tokens = pd.DataFrame(data_list, columns=[\"Title\", \"Text\"])\n",
    "data_tokens.head()"
   ]
  },
  {
   "cell_type": "code",
   "execution_count": 19,
   "metadata": {},
   "outputs": [
    {
     "data": {
      "text/plain": [
       "(103132, 2)"
      ]
     },
     "execution_count": 19,
     "metadata": {},
     "output_type": "execute_result"
    }
   ],
   "source": [
    "data_tokens.shape"
   ]
  },
  {
   "cell_type": "markdown",
   "metadata": {},
   "source": [
    "#### Create embedding"
   ]
  },
  {
   "cell_type": "code",
   "execution_count": 175,
   "metadata": {
    "collapsed": true
   },
   "outputs": [],
   "source": [
    "embending_size = 256"
   ]
  },
  {
   "cell_type": "code",
   "execution_count": 176,
   "metadata": {
    "collapsed": true
   },
   "outputs": [],
   "source": [
    "mu, sigma = 0.0001, 0.00001\n",
    "d = np.random.normal(mu, sigma, embending_size*n_tokens)"
   ]
  },
  {
   "cell_type": "code",
   "execution_count": 216,
   "metadata": {
    "scrolled": true
   },
   "outputs": [
    {
     "data": {
      "image/png": "[encoded data removed]",
      "text/plain": [
       "<Figure size 432x288 with 1 Axes>"
      ]
     },
     "metadata": {},
     "output_type": "display_data"
    }
   ],
   "source": [
    "import matplotlib.pyplot as plt\n",
    "count, bins, ignored = plt.hist(d, 30, normed=True)\n",
    "plt.plot(bins, 1/(sigma * np.sqrt(2 * np.pi)) * np.exp( - (bins - mu)**2 / (2 * sigma**2) ), linewidth=2, color='r')\n",
    "plt.show()"
   ]
  },
  {
   "cell_type": "markdown",
   "metadata": {},
   "source": [
    "w_T - transpose embedding matrix, initialize randomly with normal distribution"
   ]
  },
  {
   "cell_type": "code",
   "execution_count": 217,
   "metadata": {},
   "outputs": [
    {
     "data": {
      "text/plain": [
       "array([1.17781357e-04, 1.06017536e-04, 8.89504586e-05, ...,\n",
       "       1.11240294e-04, 9.17206973e-05, 1.15243317e-04])"
      ]
     },
     "execution_count": 217,
     "metadata": {},
     "output_type": "execute_result"
    }
   ],
   "source": [
    "w_T = np.array(d)\n",
    "w_T"
   ]
  },
  {
   "cell_type": "code",
   "execution_count": 218,
   "metadata": {},
   "outputs": [
    {
     "data": {
      "text/plain": [
       "(15759, 256)"
      ]
     },
     "execution_count": 218,
     "metadata": {},
     "output_type": "execute_result"
    }
   ],
   "source": [
    "w_T = np.reshape(w_T, newshape=(n_tokens, embending_size))\n",
    "w_T.shape"
   ]
  },
  {
   "cell_type": "markdown",
   "metadata": {},
   "source": [
    "vt - vector with \"upgrade vectors\" from last step"
   ]
  },
  {
   "cell_type": "code",
   "execution_count": 219,
   "metadata": {
    "collapsed": true
   },
   "outputs": [],
   "source": [
    "vt = {}\n",
    "vt[\"True_title\"] = [0 for _ in range(0, embending_size)]\n",
    "vt[\"True_text\"] = [0 for _ in range(0, embending_size)]\n",
    "vt[\"False_text\"] = [0 for _ in range(0, embending_size)]"
   ]
  },
  {
   "cell_type": "code",
   "execution_count": 220,
   "metadata": {},
   "outputs": [
    {
     "name": "stdout",
     "output_type": "stream",
     "text": [
      "(100000, 2)\n",
      "(3132, 2)\n"
     ]
    }
   ],
   "source": [
    "train_data, test_data = train_test_split(data_tokens, test_size=3132, random_state=42)\n",
    "print(train_data.shape)\n",
    "print(test_data.shape)"
   ]
  },
  {
   "cell_type": "markdown",
   "metadata": {
    "collapsed": true
   },
   "source": [
    "#### Training embedding"
   ]
  },
  {
   "cell_type": "code",
   "execution_count": 221,
   "metadata": {
    "collapsed": true
   },
   "outputs": [],
   "source": [
    "def aggr(w_T, text):\n",
    "    text_w = np.zeros((w_T.shape[1]))\n",
    "    for t in text:\n",
    "        text_w += w_T[t]\n",
    "    return text_w"
   ]
  },
  {
   "cell_type": "code",
   "execution_count": 222,
   "metadata": {
    "collapsed": true
   },
   "outputs": [],
   "source": [
    "def scalar_mul(vect_1, vect_2):\n",
    "    if vect_1.shape != vect_2.shape:\n",
    "        print(\"Shapes of vectors are not equal\")\n",
    "        return -1\n",
    "    norm_1 = np.math.sqrt(np.sum([a*a for a in vect_1]))\n",
    "    norm_2 = np.math.sqrt(np.sum([a*a for a in vect_2]))\n",
    "    dist = np.sum([vect_1[i]*vect_2[i] for i in range(0, len(vect_1))])\n",
    "    dist = dist / (norm_1*norm_2)\n",
    "    return dist"
   ]
  },
  {
   "cell_type": "code",
   "execution_count": 223,
   "metadata": {
    "collapsed": true
   },
   "outputs": [],
   "source": [
    "def top1(f1, f2):\n",
    "    d = f1 - f2\n",
    "    return 1/(1 + np.exp(-d))"
   ]
  },
  {
   "cell_type": "code",
   "execution_count": 224,
   "metadata": {
    "collapsed": true
   },
   "outputs": [],
   "source": [
    "def loss(u, v1, v2):\n",
    "    f1 = scalar_mul(u, v1)\n",
    "    f2 = scalar_mul(u, v2)\n",
    "    loss_val = top1(f1, f2)\n",
    "    return loss_val"
   ]
  },
  {
   "cell_type": "code",
   "execution_count": 225,
   "metadata": {
    "collapsed": true
   },
   "outputs": [],
   "source": [
    "def update_row(w_T, vt, text):\n",
    "    for t in text:\n",
    "        for i in range(0, len(vt)):\n",
    "            w_T[t][i] = w_T[t][i] - vt[i]\n",
    "    return w_T"
   ]
  },
  {
   "cell_type": "code",
   "execution_count": 226,
   "metadata": {
    "collapsed": true
   },
   "outputs": [],
   "source": [
    "def check_matrix(w_T):\n",
    "    n_1 = w_T.shape[0]\n",
    "    n_2 = w_T.shape[1]\n",
    "    for i in range(0, n_1):\n",
    "        for j in range(0, n_2):\n",
    "            if w_T[i][j] < 0:\n",
    "                w_T[i][j] = 0.000000001\n",
    "            elif w_T[i][j] == np.inf:\n",
    "                w_T[i][j] = 10000000\n",
    "    return w_T"
   ]
  },
  {
   "cell_type": "code",
   "execution_count": 227,
   "metadata": {
    "collapsed": true
   },
   "outputs": [],
   "source": [
    "# train embedding\n",
    "def train(train_data, w_T, vt, batch_size=1000, gamma=0.01, n=0.001):\n",
    "    indexes = train_data.index.tolist()\n",
    "    np.random.shuffle(indexes)\n",
    "    for i in range(0, batch_size):\n",
    "        # choice texts\n",
    "        true_ind = indexes[i]\n",
    "        false_ind = np.random.choice(indexes)\n",
    "        while false_ind == true_ind:\n",
    "            false_ind = np.random.choice(indexes)\n",
    "            \n",
    "        true_text = train_data[\"Text\"][true_ind]\n",
    "        true_title = train_data[\"Title\"][true_ind]\n",
    "        false_text = train_data[\"Text\"][false_ind]\n",
    "        \n",
    "        # aggrigation\n",
    "        true_text_w = aggr(w_T, true_text)\n",
    "        true_title_w = aggr(w_T, true_title)\n",
    "        false_text_w = aggr(w_T, false_text)\n",
    "        \n",
    "        # evaluate loss function\n",
    "        loss_val = loss(true_title_w, true_text_w, false_text_w)\n",
    "        \n",
    "        if loss_val > 0.01:\n",
    "        \n",
    "            # update weights\n",
    "            g_1 = false_text_w - true_text_w\n",
    "            vt[\"True_title\"] = np.multiply(gamma, vt[\"True_title\"]) + n*g_1\n",
    "            w_T = update_row(w_T, vt[\"True_title\"], true_title)\n",
    "\n",
    "            vt[\"True_text\"] = np.multiply(gamma, vt[\"True_text\"]) - n*true_title_w\n",
    "            w_T = update_row(w_T, vt[\"True_text\"], true_text)\n",
    "\n",
    "            vt[\"False_text\"] = np.multiply(gamma, vt[\"False_text\"]) + n*true_title_w\n",
    "            w_T = update_row(w_T, vt[\"False_text\"], false_text)\n",
    "            \n",
    "        if i%100 == 0:\n",
    "            # check values in matrix\n",
    "            w_T = check_matrix(w_T)\n",
    "        \n",
    "        \n",
    "        sys.stdout.write(\"\\r%f%%\" % (100*(i+1)/batch_size))\n",
    "        sys.stdout.flush()"
   ]
  },
  {
   "cell_type": "code",
   "execution_count": 228,
   "metadata": {
    "collapsed": true
   },
   "outputs": [],
   "source": [
    "# calculate frecuency\n",
    "def evaluate(test_data, w_T, batch_size=1000, k=5):\n",
    "    count = 0\n",
    "    test_indexes = test_data.index.tolist()\n",
    "    np.random.shuffle(test_indexes)\n",
    "    for i in range(0, batch_size):\n",
    "        ind_1 = test_indexes[i]\n",
    "        loss_arr = []\n",
    "        for j in range(0, len(test_indexes)):\n",
    "            ind_2 = test_indexes[j]\n",
    "            q1 = aggr(w_T, test_data[\"Title\"][ind_1])\n",
    "            q2 = aggr(w_T, test_data[\"Text\"][ind_2])\n",
    "            s = 1 - cosine_similarity(q1, q2)\n",
    "            loss_arr.append(s[0][0])\n",
    "        sort_loss_arr = np.sort(loss_arr)\n",
    "        treshold = sort_loss_arr[k-1]\n",
    "        if loss_arr[i] < treshold:\n",
    "            count += 1\n",
    "        sys.stdout.write(\"\\r\\t%f%%\" % (100*(i+1)/batch_size))\n",
    "        sys.stdout.flush()\n",
    "    return count / batch_size"
   ]
  },
  {
   "cell_type": "code",
   "execution_count": 229,
   "metadata": {
    "scrolled": false
   },
   "outputs": [],
   "source": [
    "def train_model(train_data, test_data, w_T, vt, n_epoch=1):\n",
    "    for ep in range(0, n_epoch):\n",
    "        print(\"\\nEpoch #\" + str(ep))\n",
    "        train(train_data, w_T, vt)\n",
    "        print(\"\\n\\tEvaluate frecuency:\")\n",
    "        frecuency = evaluate(test_data, w_T)\n",
    "        print(\"\\n\\tFrecuency is\", frecuency)"
   ]
  },
  {
   "cell_type": "markdown",
   "metadata": {},
   "source": [
    "#### Training model "
   ]
  },
  {
   "cell_type": "code",
   "execution_count": 230,
   "metadata": {
    "scrolled": false
   },
   "outputs": [
    {
     "name": "stdout",
     "output_type": "stream",
     "text": [
      "\n",
      "Epoch #0\n",
      "100.000000%\n",
      "\tEvaluate frecuency:\n",
      "\t100.000000%\n",
      "\tFrecuency is 0.748\n",
      "\n",
      "Epoch #1\n",
      "100.000000%\n",
      "\tEvaluate frecuency:\n",
      "\t100.000000%\n",
      "\tFrecuency is 0.792\n",
      "\n",
      "Epoch #2\n",
      "100.000000%\n",
      "\tEvaluate frecuency:\n",
      "\t100.000000%\n",
      "\tFrecuency is 0.837\n",
      "\n",
      "Epoch #3\n",
      "100.000000%\n",
      "\tEvaluate frecuency:\n",
      "\t100.000000%\n",
      "\tFrecuency is 0.843\n",
      "\n",
      "Epoch #4\n",
      "100.000000%\n",
      "\tEvaluate frecuency:\n",
      "\t100.000000%\n",
      "\tFrecuency is 0.847\n"
     ]
    }
   ],
   "source": [
    "train_model(train_data, test_data, w_T, vt, n_epoch=5)"
   ]
  },
  {
   "cell_type": "code",
   "execution_count": 63,
   "metadata": {
    "collapsed": true
   },
   "outputs": [],
   "source": [
    "# find neighboring words\n",
    "def knn(w_T, ind, k=10):\n",
    "    l = []\n",
    "    for i in range(0, w_T.shape[0]):\n",
    "        l.append((i, 1 - cosine_similarity(w_T[ind], w_T[i])))\n",
    "    dist_arr = np.array(l, dtype=[('index', int), ('dist', float)])\n",
    "    dist_arr = np.sort(dist_arr, order='dist') \n",
    "    print(\"Input world -\", ind_to_word[ind])\n",
    "    print(\"Neighbors:\")\n",
    "    for j in range(0, k):\n",
    "        if dist_arr[j]['index'] != ind:\n",
    "            print(\"\\t\" + ind_to_word[dist_arr[j]['index']])"
   ]
  },
  {
   "cell_type": "code",
   "execution_count": 64,
   "metadata": {},
   "outputs": [
    {
     "name": "stdout",
     "output_type": "stream",
     "text": [
      "Input world - путин\n",
      "Neighbors:\n",
      "\tвстреча\n",
      "\tмид\n",
      "\tрф\n",
      "\tпредставитель\n",
      "\tвладимир\n",
      "\tсекретарь\n",
      "\tспартак\n",
      "\tбаза\n",
      "\tкитайский\n"
     ]
    }
   ],
   "source": [
    "knn(w_T, 10924)"
   ]
  },
  {
   "cell_type": "code",
   "execution_count": null,
   "metadata": {
    "collapsed": true
   },
   "outputs": [],
   "source": []
  }
 ],
 "metadata": {
  "kernelspec": {
   "display_name": "Python 3",
   "language": "python",
   "name": "python3"
  },
  "language_info": {
   "codemirror_mode": {
    "name": "ipython",
    "version": 3
   },
   "file_extension": ".py",
   "mimetype": "text/x-python",
   "name": "python",
   "nbconvert_exporter": "python",
   "pygments_lexer": "ipython3",
   "version": "3.6.1"
  }
 },
 "nbformat": 4,
 "nbformat_minor": 2
}
