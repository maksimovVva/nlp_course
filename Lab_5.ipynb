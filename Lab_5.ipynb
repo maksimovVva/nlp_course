{
 "cells": [
  {
   "cell_type": "markdown",
   "metadata": {},
   "source": [
    "# Laboratory work №5"
   ]
  },
  {
   "cell_type": "markdown",
   "metadata": {},
   "source": [
    "### Maslennikova Elizaveta, Shchegletova Tatyana 18IAD"
   ]
  },
  {
   "cell_type": "code",
   "execution_count": 1,
   "metadata": {},
   "outputs": [
    {
     "name": "stdout",
     "output_type": "stream",
     "text": [
      "[nltk_data] Downloading package stopwords to\n",
      "[nltk_data]     /Users/elizavetamaslennikova/nltk_data...\n",
      "[nltk_data]   Package stopwords is already up-to-date!\n"
     ]
    }
   ],
   "source": [
    "import pandas as pd\n",
    "import numpy as np\n",
    "from pymystem3 import Mystem\n",
    "from sklearn.feature_extraction.text import CountVectorizer\n",
    "import re \n",
    "import nltk\n",
    "import sys\n",
    "nltk.download('stopwords')\n",
    "from nltk.corpus import stopwords \n",
    "import matplotlib.pyplot as plt\n",
    "import re\n",
    "import collections\n",
    "import torch\n",
    "from torch import nn\n",
    "import torch.nn.functional as F\n",
    "import itertools\n",
    "from torch.autograd import Variable\n",
    "from torch.utils import data as dt\n",
    "%matplotlib inline"
   ]
  },
  {
   "cell_type": "code",
   "execution_count": 2,
   "metadata": {
    "collapsed": true
   },
   "outputs": [],
   "source": [
    "import warnings\n",
    "warnings.filterwarnings(\"ignore\")"
   ]
  },
  {
   "cell_type": "markdown",
   "metadata": {},
   "source": [
    "### Reading and light clearing data "
   ]
  },
  {
   "cell_type": "code",
   "execution_count": 3,
   "metadata": {
    "collapsed": true
   },
   "outputs": [],
   "source": [
    "def tokenize(string):\n",
    "    string = re.sub(r'\\W', ' ',  string)\n",
    "    string = re.sub(r'\\s+', ' ', string, flags=re.I)\n",
    "    tokens = re.findall(r'\\b[А-Яа-я-]{1,}\\b', string)\n",
    "    sentance = ' '.join(tokens)\n",
    "    return sentance"
   ]
  },
  {
   "cell_type": "code",
   "execution_count": 4,
   "metadata": {},
   "outputs": [
    {
     "data": {
      "text/plain": [
       "(103132, 2)"
      ]
     },
     "execution_count": 4,
     "metadata": {},
     "output_type": "execute_result"
    }
   ],
   "source": [
    "data = pd.read_json('final.json')\n",
    "data.index = range(0, data.shape[0])\n",
    "data.shape"
   ]
  },
  {
   "cell_type": "code",
   "execution_count": 5,
   "metadata": {
    "scrolled": true
   },
   "outputs": [
    {
     "name": "stdout",
     "output_type": "stream",
     "text": [
      "100.000000%"
     ]
    },
    {
     "data": {
      "text/html": [
       "<div>\n",
       "<style>\n",
       "    .dataframe thead tr:only-child th {\n",
       "        text-align: right;\n",
       "    }\n",
       "\n",
       "    .dataframe thead th {\n",
       "        text-align: left;\n",
       "    }\n",
       "\n",
       "    .dataframe tbody tr th {\n",
       "        vertical-align: top;\n",
       "    }\n",
       "</style>\n",
       "<table border=\"1\" class=\"dataframe\">\n",
       "  <thead>\n",
       "    <tr style=\"text-align: right;\">\n",
       "      <th></th>\n",
       "      <th>text</th>\n",
       "      <th>title</th>\n",
       "      <th>clean_title</th>\n",
       "    </tr>\n",
       "  </thead>\n",
       "  <tbody>\n",
       "    <tr>\n",
       "      <th>0</th>\n",
       "      <td>Телеведущая Ксения Собчак считает, что художе...</td>\n",
       "      <td>Серебренников создал не просто театр, а \"центр...</td>\n",
       "      <td>Серебренников создал не просто театр а центр с...</td>\n",
       "    </tr>\n",
       "    <tr>\n",
       "      <th>1</th>\n",
       "      <td>Интернет-сервис Amazo удалил с сайта объявлени...</td>\n",
       "      <td>Американка сняла на видео \"профессиональный\" ф...</td>\n",
       "      <td>Американка сняла на видео профессиональный фен...</td>\n",
       "    </tr>\n",
       "    <tr>\n",
       "      <th>2</th>\n",
       "      <td>Посольство России в Вашингтоне готово оказать...</td>\n",
       "      <td>Посольство России призвало США прекратить похи...</td>\n",
       "      <td>Посольство России призвало США прекратить похи...</td>\n",
       "    </tr>\n",
       "    <tr>\n",
       "      <th>3</th>\n",
       "      <td>В четверг стало известно, что российский боксе...</td>\n",
       "      <td>Тренер Гассиева: повторный бой с Лебедевым ста...</td>\n",
       "      <td>Тренер Гассиева повторный бой с Лебедевым стал...</td>\n",
       "    </tr>\n",
       "    <tr>\n",
       "      <th>4</th>\n",
       "      <td>Апелляционный суд Киева отпустил из-под арест...</td>\n",
       "      <td>Суд отпустил из-под ареста подозреваемых в под...</td>\n",
       "      <td>Суд отпустил из под ареста подозреваемых в под...</td>\n",
       "    </tr>\n",
       "    <tr>\n",
       "      <th>5</th>\n",
       "      <td>Информационный плакат о кандидатах в президен...</td>\n",
       "      <td>Данные о счетах Грудинина внесут в информацион...</td>\n",
       "      <td>Данные о счетах Грудинина внесут в информацион...</td>\n",
       "    </tr>\n",
       "    <tr>\n",
       "      <th>6</th>\n",
       "      <td>В Китае посетителям показали шесть детенышей ...</td>\n",
       "      <td>В Китае сняли на видео, как работники зоопарка...</td>\n",
       "      <td>В Китае сняли на видео как работники зоопарка ...</td>\n",
       "    </tr>\n",
       "    <tr>\n",
       "      <th>7</th>\n",
       "      <td>. Сахалинский областной суд в понедельник пере...</td>\n",
       "      <td>Сахалинский суд отложил заседание по апелляции...</td>\n",
       "      <td>Сахалинский суд отложил заседание по апелляции...</td>\n",
       "    </tr>\n",
       "    <tr>\n",
       "      <th>8</th>\n",
       "      <td>Владимир Путин в начале своего президентства б...</td>\n",
       "      <td>Немецкий политик рассказал об ошибке Европы в ...</td>\n",
       "      <td>Немецкий политик рассказал об ошибке Европы в ...</td>\n",
       "    </tr>\n",
       "    <tr>\n",
       "      <th>9</th>\n",
       "      <td>. Россияне в феврале 2019 года увеличили свои ...</td>\n",
       "      <td>\"Ромир\": россияне в феврале вопреки традиции п...</td>\n",
       "      <td>Ромир россияне в феврале вопреки традиции повы...</td>\n",
       "    </tr>\n",
       "  </tbody>\n",
       "</table>\n",
       "</div>"
      ],
      "text/plain": [
       "                                                text  \\\n",
       "0   Телеведущая Ксения Собчак считает, что художе...   \n",
       "1  Интернет-сервис Amazo удалил с сайта объявлени...   \n",
       "2   Посольство России в Вашингтоне готово оказать...   \n",
       "3  В четверг стало известно, что российский боксе...   \n",
       "4   Апелляционный суд Киева отпустил из-под арест...   \n",
       "5   Информационный плакат о кандидатах в президен...   \n",
       "6   В Китае посетителям показали шесть детенышей ...   \n",
       "7  . Сахалинский областной суд в понедельник пере...   \n",
       "8  Владимир Путин в начале своего президентства б...   \n",
       "9  . Россияне в феврале 2019 года увеличили свои ...   \n",
       "\n",
       "                                               title  \\\n",
       "0  Серебренников создал не просто театр, а \"центр...   \n",
       "1  Американка сняла на видео \"профессиональный\" ф...   \n",
       "2  Посольство России призвало США прекратить похи...   \n",
       "3  Тренер Гассиева: повторный бой с Лебедевым ста...   \n",
       "4  Суд отпустил из-под ареста подозреваемых в под...   \n",
       "5  Данные о счетах Грудинина внесут в информацион...   \n",
       "6  В Китае сняли на видео, как работники зоопарка...   \n",
       "7  Сахалинский суд отложил заседание по апелляции...   \n",
       "8  Немецкий политик рассказал об ошибке Европы в ...   \n",
       "9  \"Ромир\": россияне в феврале вопреки традиции п...   \n",
       "\n",
       "                                         clean_title  \n",
       "0  Серебренников создал не просто театр а центр с...  \n",
       "1  Американка сняла на видео профессиональный фен...  \n",
       "2  Посольство России призвало США прекратить похи...  \n",
       "3  Тренер Гассиева повторный бой с Лебедевым стал...  \n",
       "4  Суд отпустил из под ареста подозреваемых в под...  \n",
       "5  Данные о счетах Грудинина внесут в информацион...  \n",
       "6  В Китае сняли на видео как работники зоопарка ...  \n",
       "7  Сахалинский суд отложил заседание по апелляции...  \n",
       "8  Немецкий политик рассказал об ошибке Европы в ...  \n",
       "9  Ромир россияне в феврале вопреки традиции повы...  "
      ]
     },
     "execution_count": 5,
     "metadata": {},
     "output_type": "execute_result"
    }
   ],
   "source": [
    "data['clean_title'] = pd.Series()\n",
    "for i in range(0, data.shape[0]):\n",
    "    sentance = tokenize(data.loc[i]['title'])\n",
    "    data.loc[i, 'clean_title'] = sentance\n",
    "    if i % 5 == 0 or i == data.shape[0] - 1:\n",
    "        sys.stdout.write(\"\\r%f%%\" % (100*(i+1)/data.shape[0]))\n",
    "        sys.stdout.flush()\n",
    "data.head(10)"
   ]
  },
  {
   "cell_type": "markdown",
   "metadata": {},
   "source": [
    "### Get only titles, calculate maximum length of sentances and padding all titles to this length"
   ]
  },
  {
   "cell_type": "markdown",
   "metadata": {},
   "source": [
    "**#** - end of the sentance, **&** - padding symbol"
   ]
  },
  {
   "cell_type": "code",
   "execution_count": 23,
   "metadata": {},
   "outputs": [
    {
     "data": {
      "text/plain": [
       "['Серебренников создал не просто театр а центр силы считает Собчак',\n",
       " 'Американка сняла на видео профессиональный фен извергающий пламя',\n",
       " 'Посольство России призвало США прекратить похищать россиян',\n",
       " 'Тренер Гассиева повторный бой с Лебедевым стал бы войной Севера и Юга',\n",
       " 'Суд отпустил из под ареста подозреваемых в поджоге часовни УПЦ МП в Киеве',\n",
       " 'Данные о счетах Грудинина внесут в информационный плакат о кандидатах',\n",
       " 'В Китае сняли на видео как работники зоопарка ухаживают за тигрятами',\n",
       " 'Сахалинский суд отложил заседание по апелляции на приговор экс губернатору',\n",
       " 'Немецкий политик рассказал об ошибке Европы в отношениях с Россией',\n",
       " 'Ромир россияне в феврале вопреки традиции повысили повседневные траты']"
      ]
     },
     "execution_count": 23,
     "metadata": {},
     "output_type": "execute_result"
    }
   ],
   "source": [
    "titles = data['clean_title'].tolist()\n",
    "titles = titles[:32*3222]\n",
    "titles[:10]"
   ]
  },
  {
   "cell_type": "code",
   "execution_count": 24,
   "metadata": {},
   "outputs": [
    {
     "name": "stdout",
     "output_type": "stream",
     "text": [
      "Maximum length of sentances =  97\n"
     ]
    }
   ],
   "source": [
    "X_lengths = [len(t) for t in titles]\n",
    "max_len = max(X_lengths) + 1\n",
    "print('Maximum length of sentances = ', max_len)"
   ]
  },
  {
   "cell_type": "code",
   "execution_count": 25,
   "metadata": {},
   "outputs": [
    {
     "data": {
      "text/plain": [
       "['Серебренников создал не просто театр а центр силы считает Собчак#&&&&&&&&&&&&&&&&&&&&&&&&&&&&&&&&',\n",
       " 'Американка сняла на видео профессиональный фен извергающий пламя#&&&&&&&&&&&&&&&&&&&&&&&&&&&&&&&&',\n",
       " 'Посольство России призвало США прекратить похищать россиян#&&&&&&&&&&&&&&&&&&&&&&&&&&&&&&&&&&&&&&',\n",
       " 'Тренер Гассиева повторный бой с Лебедевым стал бы войной Севера и Юга#&&&&&&&&&&&&&&&&&&&&&&&&&&&',\n",
       " 'Суд отпустил из под ареста подозреваемых в поджоге часовни УПЦ МП в Киеве#&&&&&&&&&&&&&&&&&&&&&&&',\n",
       " 'Данные о счетах Грудинина внесут в информационный плакат о кандидатах#&&&&&&&&&&&&&&&&&&&&&&&&&&&',\n",
       " 'В Китае сняли на видео как работники зоопарка ухаживают за тигрятами#&&&&&&&&&&&&&&&&&&&&&&&&&&&&',\n",
       " 'Сахалинский суд отложил заседание по апелляции на приговор экс губернатору#&&&&&&&&&&&&&&&&&&&&&&',\n",
       " 'Немецкий политик рассказал об ошибке Европы в отношениях с Россией#&&&&&&&&&&&&&&&&&&&&&&&&&&&&&&',\n",
       " 'Ромир россияне в феврале вопреки традиции повысили повседневные траты#&&&&&&&&&&&&&&&&&&&&&&&&&&&']"
      ]
     },
     "execution_count": 25,
     "metadata": {},
     "output_type": "execute_result"
    }
   ],
   "source": [
    "titles = [t + \"#\" for t in titles]\n",
    "titles = [t.ljust(max_len, '&') for t in titles]\n",
    "titles[:10]"
   ]
  },
  {
   "cell_type": "markdown",
   "metadata": {},
   "source": [
    "### Create vocabulary "
   ]
  },
  {
   "cell_type": "markdown",
   "metadata": {},
   "source": [
    "**ind2token** - return token from vocalulary corresponding to the given index\n",
    "\n",
    "**token2ind** - return index of corresponding token from vocalulary"
   ]
  },
  {
   "cell_type": "code",
   "execution_count": 26,
   "metadata": {
    "scrolled": true
   },
   "outputs": [
    {
     "data": {
      "text/plain": [
       "[(' ', 0),\n",
       " ('#', 1),\n",
       " ('&', 2),\n",
       " ('А', 3),\n",
       " ('Б', 4),\n",
       " ('В', 5),\n",
       " ('Г', 6),\n",
       " ('Д', 7),\n",
       " ('Е', 8),\n",
       " ('Ж', 9)]"
      ]
     },
     "execution_count": 26,
     "metadata": {},
     "output_type": "execute_result"
    }
   ],
   "source": [
    "ind2token = sorted(set(''.join(titles)))\n",
    "token2ind = {}\n",
    "for i in range(0, len(ind2token)):\n",
    "    token2ind[ind2token[i]] = i\n",
    "list(token2ind.items())[:10]"
   ]
  },
  {
   "cell_type": "code",
   "execution_count": 27,
   "metadata": {
    "scrolled": true
   },
   "outputs": [
    {
     "data": {
      "text/plain": [
       "[' ', '#', '&', 'А', 'Б', 'В', 'Г', 'Д', 'Е', 'Ж']"
      ]
     },
     "execution_count": 27,
     "metadata": {},
     "output_type": "execute_result"
    }
   ],
   "source": [
    "ind2token[:10]"
   ]
  },
  {
   "cell_type": "markdown",
   "metadata": {},
   "source": [
    "### Create X and Y tensors for training "
   ]
  },
  {
   "cell_type": "code",
   "execution_count": 28,
   "metadata": {
    "collapsed": true
   },
   "outputs": [],
   "source": [
    "X = [[token2ind[t] for t in title[:-1]] for title in titles]\n",
    "y = [[token2ind[t] for t in title[1:]] for title in titles]"
   ]
  },
  {
   "cell_type": "code",
   "execution_count": 29,
   "metadata": {},
   "outputs": [
    {
     "data": {
      "text/plain": [
       "tensor([[20, 40, 51,  ...,  2,  2,  2],\n",
       "        [ 3, 47, 40,  ...,  2,  2,  2],\n",
       "        [18, 49, 52,  ...,  2,  2,  2],\n",
       "        ...,\n",
       "        [22, 58, 35,  ...,  2,  2,  2],\n",
       "        [ 9, 35, 47,  ...,  2,  2,  2],\n",
       "        [50, 51, 43,  ...,  2,  2,  2]])"
      ]
     },
     "execution_count": 29,
     "metadata": {},
     "output_type": "execute_result"
    }
   ],
   "source": [
    "X = torch.LongTensor(X)\n",
    "X"
   ]
  },
  {
   "cell_type": "code",
   "execution_count": 30,
   "metadata": {},
   "outputs": [
    {
     "data": {
      "text/plain": [
       "tensor([[40, 51, 40,  ...,  2,  2,  2],\n",
       "        [47, 40, 51,  ...,  2,  2,  2],\n",
       "        [49, 52, 49,  ...,  2,  2,  2],\n",
       "        ...,\n",
       "        [58, 35, 52,  ...,  2,  2,  2],\n",
       "        [35, 47, 36,  ...,  2,  2,  2],\n",
       "        [51, 43, 49,  ...,  2,  2,  2]])"
      ]
     },
     "execution_count": 30,
     "metadata": {},
     "output_type": "execute_result"
    }
   ],
   "source": [
    "y = torch.LongTensor(y)\n",
    "y"
   ]
  },
  {
   "cell_type": "markdown",
   "metadata": {},
   "source": [
    "#### Also need to remember length of input sentences"
   ]
  },
  {
   "cell_type": "code",
   "execution_count": 31,
   "metadata": {},
   "outputs": [
    {
     "data": {
      "text/plain": [
       "tensor([64, 64, 58,  ..., 75, 71, 33], dtype=torch.int32)"
      ]
     },
     "execution_count": 31,
     "metadata": {},
     "output_type": "execute_result"
    }
   ],
   "source": [
    "X_lengths = torch.IntTensor(X_lengths)\n",
    "X_lengths"
   ]
  },
  {
   "cell_type": "code",
   "execution_count": 32,
   "metadata": {},
   "outputs": [
    {
     "name": "stdout",
     "output_type": "stream",
     "text": [
      "torch.Size([103104, 96]) torch.Size([103104, 96]) torch.Size([103104])\n"
     ]
    }
   ],
   "source": [
    "print(X.size(), y.size(), X_lengths.size())"
   ]
  },
  {
   "cell_type": "markdown",
   "metadata": {},
   "source": [
    "#### Create loader for data by batch"
   ]
  },
  {
   "cell_type": "code",
   "execution_count": 33,
   "metadata": {
    "collapsed": true
   },
   "outputs": [],
   "source": [
    "torch_dataset = dt.TensorDataset(X, y, X_lengths)\n",
    "loader = dt.DataLoader(dataset=torch_dataset, batch_size=16, shuffle=True)"
   ]
  },
  {
   "cell_type": "markdown",
   "metadata": {},
   "source": [
    "### Define the network"
   ]
  },
  {
   "cell_type": "code",
   "execution_count": 34,
   "metadata": {
    "collapsed": true
   },
   "outputs": [],
   "source": [
    "class BieberLSTM(nn.Module):\n",
    "    def __init__(self, token2ind, ind2token, n_layers = 2, n_lstm_units=100, embedding_dim=1024, batch_size=16):\n",
    "        super(BieberLSTM, self).__init__()\n",
    "        self.token2ind = token2ind\n",
    "        self.ind2token = ind2token\n",
    "\n",
    "        self.n_lstm_layers = n_layers\n",
    "        self.n_lstm_units = n_lstm_units\n",
    "        self.embedding_dim = embedding_dim\n",
    "        self.batch_size = batch_size\n",
    "        self.n_vocab = len(self.ind2token)\n",
    "        self.lstm = None\n",
    "\n",
    "        # build actual NN\n",
    "        self.__build_model()\n",
    "        \n",
    "    def __build_model(self):\n",
    "        # Embedding layer\n",
    "        # Embedding vector for padding index will be zero vector\n",
    "        self.word_embedding = nn.Embedding(num_embeddings=self.n_vocab,\n",
    "                embedding_dim=self.embedding_dim, padding_idx=self.token2ind['&'])\n",
    "\n",
    "        # LSTM\n",
    "        self.lstm = nn.LSTM(input_size=self.embedding_dim, hidden_size=self.n_lstm_units,\n",
    "                            num_layers=self.n_lstm_layers, batch_first=True)\n",
    "\n",
    "        # Linear output layer\n",
    "        self.hidden_to_next = nn.Linear(self.n_lstm_units, self.n_vocab)\n",
    "    \n",
    "    def init_hidden(self, test=False):\n",
    "        # The shape of weights - (nb_layers, batch_size, nb_lstm_units)\n",
    "        if test:\n",
    "            self.batch_size = 1\n",
    "        hidden_a = torch.randn(self.n_lstm_layers, self.batch_size, self.n_lstm_units)\n",
    "        hidden_b = torch.randn(self.n_lstm_layers, self.batch_size, self.n_lstm_units)\n",
    "\n",
    "        hidden_a = Variable(hidden_a)\n",
    "        hidden_b = Variable(hidden_b)\n",
    "\n",
    "        return (hidden_a, hidden_b)\n",
    "\n",
    "    def forward(self, X, X_lengths, test=False):\n",
    "        self.hidden = self.init_hidden(test)\n",
    "        batch_size, seq_len = X.size()\n",
    "\n",
    "        # Embed the input: (batch_size, seq_len, 1) -> (batch_size, seq_len, embedding_dim)\n",
    "        X = self.word_embedding(X)\n",
    "        \n",
    "        # LSTM with padding: (batch_size, seq_len, embedding_dim) -> (batch_size, seq_len, n_lstm_units)\n",
    "\n",
    "        # Function 'pack_padded_sequence' helps not to take into account padded items in the sequence in the LSTM\n",
    "        X = torch.nn.utils.rnn.pack_padded_sequence(X, X_lengths, batch_first=True)\n",
    "        X, self.hidden = self.lstm(X, self.hidden)\n",
    "        X, _ = torch.nn.utils.rnn.pad_packed_sequence(X, batch_first=True, total_length=seq_len)\n",
    "\n",
    "        # Linear layer: (batch_size, seq_len, n_lstm_units) -> (batch_size * seq_len, n_lstm_units)\n",
    "        X = X.contiguous()\n",
    "        X = X.view(-1, X.shape[2])\n",
    "        X = self.hidden_to_next(X)\n",
    "        \n",
    "        # Softmax activation: (batch_size * seq_len, n_lstm_units) -> (batch_size, seq_len, n_vocab)\n",
    "        X = F.log_softmax(X, dim=1)\n",
    "        X = X.view(batch_size, seq_len, self.n_vocab)\n",
    "        return X\n",
    "    \n",
    "    \n",
    "    def loss(self, Y_pred, Y, X_lengths):\n",
    "        Y = Y.view(-1)\n",
    "        Y_pred = Y_pred.view(-1, self.n_vocab)\n",
    "\n",
    "        # Create a mask by filtering out all tokens that ARE NOT the padding token\n",
    "        ind_pad_token = self.token2ind['&']\n",
    "        mask = (Y != ind_pad_token).float()\n",
    "        n_tokens = int(torch.sum(mask).data)\n",
    "        \n",
    "        # Apply mask for calculate cross entropy loss which ignores all padding tokens\n",
    "        Y_pred = Y_pred[range(Y_pred.shape[0]), Y] * mask\n",
    "        loss_val = -torch.sum(Y_pred) / n_tokens\n",
    "        return loss_val"
   ]
  },
  {
   "cell_type": "code",
   "execution_count": 35,
   "metadata": {},
   "outputs": [
    {
     "name": "stdout",
     "output_type": "stream",
     "text": [
      "BieberLSTM(\n",
      "  (word_embedding): Embedding(67, 1024, padding_idx=2)\n",
      "  (lstm): LSTM(1024, 100, num_layers=2, batch_first=True)\n",
      "  (hidden_to_next): Linear(in_features=100, out_features=67, bias=True)\n",
      ")\n"
     ]
    }
   ],
   "source": [
    "model = BieberLSTM(token2ind, ind2token)\n",
    "print(model)"
   ]
  },
  {
   "cell_type": "code",
   "execution_count": 36,
   "metadata": {
    "collapsed": true
   },
   "outputs": [],
   "source": [
    "opt = torch.optim.Adam(model.parameters(), lr=1e-3)\n",
    "# criterion = model.loss\n",
    "criterion = nn.CrossEntropyLoss(ignore_index=token2ind['&'])"
   ]
  },
  {
   "cell_type": "code",
   "execution_count": 37,
   "metadata": {
    "collapsed": true
   },
   "outputs": [],
   "source": [
    "def batch_sort(batch_x, batch_y, lehgths):\n",
    "    # function for sorting batches by decreasing length of sentances\n",
    "    lengths_new, indexes = torch.sort(lehgths, descending=True)\n",
    "    batch_x_new = batch_x[indexes]\n",
    "    batch_y_new = batch_y[indexes]\n",
    "    \n",
    "    return batch_x_new, batch_y_new, lengths_new"
   ]
  },
  {
   "cell_type": "code",
   "execution_count": 38,
   "metadata": {
    "collapsed": true
   },
   "outputs": [],
   "source": [
    "def train(model, opt, criterion, init_epochs, epochs, loader,log_interval=1):\n",
    "    loss_value = []\n",
    "    for epoch in range(init_epochs, epochs):\n",
    "        for step, (batch_x, batch_y, lengths) in enumerate(loader):\n",
    "            batch_x, batch_y, lengths = batch_sort(batch_x, batch_y, lengths)\n",
    "            lengths = lengths.tolist()\n",
    "            opt.zero_grad()\n",
    "            model_out = model(batch_x, lengths)\n",
    "            model_out = model_out.view(-1, model_out.size()[2])\n",
    "            batch_y = batch_y.view(batch_y.size()[0]*batch_y.size()[1])\n",
    "            loss = criterion(model_out, batch_y)\n",
    "            loss.backward()\n",
    "            opt.step()\n",
    "            if step % log_interval == 0:\n",
    "                sys.stdout.write(\"\\r%f%%\" % (step*100/len(loader)))\n",
    "                sys.stdout.flush()\n",
    "        sys.stdout.write(\"\\r%f%%\" % (100))\n",
    "        print('\\nTrain Epoch: {} \\tLoss: {:.6f}\\n'.format(epoch,loss.data))\n",
    "        loss_value.append(loss.data)\n",
    "        sys.stdout.flush()\n",
    "    return model, loss_value"
   ]
  },
  {
   "cell_type": "code",
   "execution_count": 39,
   "metadata": {
    "scrolled": true
   },
   "outputs": [
    {
     "name": "stdout",
     "output_type": "stream",
     "text": [
      "100.000000%\n",
      "Train Epoch: 0 \tLoss: 1.602666\n",
      "\n",
      "100.000000%\n",
      "Train Epoch: 1 \tLoss: 1.585231\n",
      "\n",
      "100.000000%\n",
      "Train Epoch: 2 \tLoss: 1.455148\n",
      "\n",
      "100.000000%\n",
      "Train Epoch: 3 \tLoss: 1.504956\n",
      "\n",
      "100.000000%\n",
      "Train Epoch: 4 \tLoss: 1.378352\n",
      "\n"
     ]
    }
   ],
   "source": [
    "init_epoch = 0\n",
    "epochs = 5\n",
    "model, loss_value = train(model, opt, criterion, init_epoch, epochs, loader)"
   ]
  },
  {
   "cell_type": "code",
   "execution_count": null,
   "metadata": {
    "collapsed": true
   },
   "outputs": [],
   "source": [
    "loss_value = [i.numpy() for i in loss_value]"
   ]
  },
  {
   "cell_type": "code",
   "execution_count": 74,
   "metadata": {
    "scrolled": false
   },
   "outputs": [
    {
     "data": {
      "image/png": "[encoded data removed]",
      "text/plain": [
       "<Figure size 432x288 with 1 Axes>"
      ]
     },
     "metadata": {},
     "output_type": "display_data"
    }
   ],
   "source": [
    "# plt.figure(figsize = (15, 10))\n",
    "ep = [i for i in range(0, epochs)]\n",
    "plt.plot(ep, loss_value, color = 'r', marker = \"s\", alpha=0.5)\n",
    "\n",
    "# plt.plot(n_estim, [1-i for i in grid.cv_results_[\"mean_train_score\"]], \"b-o\", alpha=0.7)\n",
    "\n",
    "# plt.scatter(grid.best_params_['n_estimators'], 1 - grid.best_score_, color = \"g\", s=200)\n",
    "\n",
    "plt.xticks(ep)\n",
    "plt.xlabel('Number of epochs')\n",
    "plt.ylabel('Loss')\n",
    "plt.title('\\nValues of loss function on train\\n', fontdict={\"fontsize\":20})\n",
    "plt.grid(b=True)"
   ]
  },
  {
   "cell_type": "code",
   "execution_count": 42,
   "metadata": {
    "collapsed": true
   },
   "outputs": [],
   "source": [
    "def predict_sentance(string, model):\n",
    "    string = [s for s in string]\n",
    "    token = ''\n",
    "    while token != '#':\n",
    "        X_test = np.array([[model.token2ind[t] for t in string]])\n",
    "        X_test = torch.from_numpy(X_test)\n",
    "        model_out = model(X_test, [len(X_test[0])], test=True)\n",
    "        token = model.ind2token[torch.max(model_out[0][-1], 0)[1].item()]\n",
    "        string.append(token)\n",
    "        sys.stdout.write('\\r%s' % ''.join(string))\n",
    "        sys.stdout.flush()\n",
    "    return ''.join(string)"
   ]
  },
  {
   "cell_type": "code",
   "execution_count": 43,
   "metadata": {},
   "outputs": [
    {
     "name": "stdout",
     "output_type": "stream",
     "text": [
      "Суд получил проведение после пострадавших в полуфинале мира в Казани#"
     ]
    }
   ],
   "source": [
    "begin = 'С'\n",
    "sentance = predict_sentance(begin, model)"
   ]
  },
  {
   "cell_type": "code",
   "execution_count": 52,
   "metadata": {},
   "outputs": [
    {
     "name": "stdout",
     "output_type": "stream",
     "text": [
      "В Москве построит состав пострадавших в полуфинале мира в Китае#"
     ]
    }
   ],
   "source": [
    "begin = 'В'\n",
    "sentance = predict_sentance(begin, model)"
   ]
  },
  {
   "cell_type": "code",
   "execution_count": 57,
   "metadata": {},
   "outputs": [
    {
     "name": "stdout",
     "output_type": "stream",
     "text": [
      "Сирийский призвал политики в полуфинале мира в Китае#"
     ]
    }
   ],
   "source": [
    "begin = 'Сири'\n",
    "sentance = predict_sentance(begin, model)"
   ]
  },
  {
   "cell_type": "code",
   "execution_count": 514,
   "metadata": {},
   "outputs": [
    {
     "name": "stdout",
     "output_type": "stream",
     "text": [
      "Политолог обыграл США по делу о полуфинале Кубка мира в Сирии#"
     ]
    }
   ],
   "source": [
    "begin = 'П'\n",
    "sentance = predict_sentance(begin, model)"
   ]
  }
 ],
 "metadata": {
  "kernelspec": {
   "display_name": "Python 3",
   "language": "python",
   "name": "python3"
  },
  "language_info": {
   "codemirror_mode": {
    "name": "ipython",
    "version": 3
   },
   "file_extension": ".py",
   "mimetype": "text/x-python",
   "name": "python",
   "nbconvert_exporter": "python",
   "pygments_lexer": "ipython3",
   "version": "3.6.1"
  }
 },
 "nbformat": 4,
 "nbformat_minor": 2
}
